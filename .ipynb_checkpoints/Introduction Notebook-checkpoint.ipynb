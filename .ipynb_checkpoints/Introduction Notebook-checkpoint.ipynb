{
 "cells": [
  {
   "cell_type": "markdown",
   "metadata": {},
   "source": [
    "# Introduction to Bayesian statistics\n",
    "\n",
    "In this Jupyter Notebook, I will introduce you to two practical, easy, and powerfull `R` packages to do **Bayesian Statistical Inference**:\n",
    "\n",
    "- rethinking, from [Richard McElreath ‘s lectures](https://github.com/rmcelreath/statrethinking_winter2019) and [amazing book](https://www.amazon.de/Statistical-Rethinking-Bayesian-Examples-Chapman/dp/036713991X/ref=sr_1_1?__mk_de_DE=%C3%85M%C3%85%C5%BD%C3%95%C3%91&crid=2U80GHSYN6SXD&dchild=1&keywords=statistical+rethinking&qid=1593046024&sprefix=statistical+re%2Caps%2C337&sr=8-1).\n",
    "\n",
    "- brms, from [Paul Buerkner’s amazing package and his tutorials](https://github.com/paul-buerkner/brms)\n",
    "\n",
    "Today, these two packages offer some of the most popular `R` to `Stan` interfaces. If you want to learn more there is a lot of material on the topic. For example, you can find all the example's from the Statistical Rethinking book also available in the `brms` package, all thanks to [Solomon Kurz](https://bookdown.org/ajkurz/Statistical_Rethinking_recoded/).\n",
    "\n",
    "But for practical porpuse and for the sake of time, we will work with some real life exampels and develope some intuition about how statistical models work and why doing it in stan is -in my personal opinion- more efficient, powerfull, and flexible."
   ]
  },
  {
   "cell_type": "markdown",
   "metadata": {},
   "source": [
    "## Step 1: Install the necessary packages and load the libraries\n",
    "Once, you have installed the necesary packages you can remove the first line of code or comment it out with `#`"
   ]
  },
  {
   "cell_type": "code",
   "execution_count": 1,
   "metadata": {},
   "outputs": [],
   "source": [
    "# install.packages(c(\"coda\",\"mvtnorm\",\"devtools\",\"loo\",\"dagitty\", 'rstan', \"brms\", \"readxl\"))\n",
    "# library(devtools)\n",
    "# devtools::install_github(\"rmcelreath/rethinking\")"
   ]
  },
  {
   "cell_type": "code",
   "execution_count": 2,
   "metadata": {},
   "outputs": [
    {
     "name": "stderr",
     "output_type": "stream",
     "text": [
      "Loading required package: rstan\n",
      "\n",
      "Loading required package: StanHeaders\n",
      "\n",
      "Loading required package: ggplot2\n",
      "\n",
      "rstan (Version 2.21.2, GitRev: 2e1f913d3ca3)\n",
      "\n",
      "For execution on a local, multicore CPU with excess RAM we recommend calling\n",
      "options(mc.cores = parallel::detectCores()).\n",
      "To avoid recompilation of unchanged Stan programs, we recommend calling\n",
      "rstan_options(auto_write = TRUE)\n",
      "\n",
      "Loading required package: parallel\n",
      "\n",
      "rethinking (Version 2.13)\n",
      "\n",
      "\n",
      "Attaching package: ‘rethinking’\n",
      "\n",
      "\n",
      "The following object is masked from ‘package:stats’:\n",
      "\n",
      "    rstudent\n",
      "\n",
      "\n",
      "Loading required package: Rcpp\n",
      "\n",
      "Loading 'brms' package (version 2.13.5). Useful instructions\n",
      "can be found by typing help('brms'). A more detailed introduction\n",
      "to the package is available through vignette('brms_overview').\n",
      "\n",
      "\n",
      "Attaching package: ‘brms’\n",
      "\n",
      "\n",
      "The following objects are masked from ‘package:rethinking’:\n",
      "\n",
      "    LOO, stancode, WAIC\n",
      "\n",
      "\n",
      "The following object is masked from ‘package:rstan’:\n",
      "\n",
      "    loo\n",
      "\n",
      "\n",
      "The following object is masked from ‘package:stats’:\n",
      "\n",
      "    ar\n",
      "\n",
      "\n"
     ]
    }
   ],
   "source": [
    "# load the packages\n",
    "library(rethinking)\n",
    "library(brms)\n",
    "library('readxl')"
   ]
  },
  {
   "cell_type": "markdown",
   "metadata": {},
   "source": [
    "## Step 2: Load you data. \n",
    "\n",
    "In this Notebook, I will show you how to run some models on data from **The Guppy Project** and published in Reznick et al., 2002. In which he manipulated the density of guppies in natural fish communities of trinidad where predators are absent. This study is one of the first studies to investigate whether guppy populations that live in the absend of predators are *density regulated*. David Reznick et al 2002 went to the fild individually mark each fish and came back after 25 days and estimated the effects of fish density on several life history traits: individual survival, growth rates, and probability of reproduciton, among others. Additionally, they evaluated the influence of body size on those vital rates and how this relationship was change by the density manipulatons. "
   ]
  },
  {
   "cell_type": "code",
   "execution_count": 3,
   "metadata": {},
   "outputs": [
    {
     "data": {
      "text/html": [
       "<table>\n",
       "<caption>A tibble: 6 × 6</caption>\n",
       "<thead>\n",
       "\t<tr><th scope=col>Stream</th><th scope=col>year</th><th scope=col>replicate</th><th scope=col>TREATMENT</th><th scope=col>survival</th><th scope=col>sizeclass</th></tr>\n",
       "\t<tr><th scope=col>&lt;chr&gt;</th><th scope=col>&lt;dbl&gt;</th><th scope=col>&lt;dbl&gt;</th><th scope=col>&lt;chr&gt;</th><th scope=col>&lt;dbl&gt;</th><th scope=col>&lt;dbl&gt;</th></tr>\n",
       "</thead>\n",
       "<tbody>\n",
       "\t<tr><td>Aripo</td><td>1996</td><td>1</td><td>Decrease (0.5x)</td><td>0</td><td>1</td></tr>\n",
       "\t<tr><td>Aripo</td><td>1996</td><td>1</td><td>Decrease (0.5x)</td><td>0</td><td>1</td></tr>\n",
       "\t<tr><td>Aripo</td><td>1996</td><td>1</td><td>Decrease (0.5x)</td><td>0</td><td>1</td></tr>\n",
       "\t<tr><td>Aripo</td><td>1996</td><td>1</td><td>Decrease (0.5x)</td><td>1</td><td>1</td></tr>\n",
       "\t<tr><td>Aripo</td><td>1996</td><td>1</td><td>Decrease (0.5x)</td><td>1</td><td>1</td></tr>\n",
       "\t<tr><td>Aripo</td><td>1996</td><td>1</td><td>Decrease (0.5x)</td><td>1</td><td>1</td></tr>\n",
       "</tbody>\n",
       "</table>\n"
      ],
      "text/latex": [
       "A tibble: 6 × 6\n",
       "\\begin{tabular}{llllll}\n",
       " Stream & year & replicate & TREATMENT & survival & sizeclass\\\\\n",
       " <chr> & <dbl> & <dbl> & <chr> & <dbl> & <dbl>\\\\\n",
       "\\hline\n",
       "\t Aripo & 1996 & 1 & Decrease (0.5x) & 0 & 1\\\\\n",
       "\t Aripo & 1996 & 1 & Decrease (0.5x) & 0 & 1\\\\\n",
       "\t Aripo & 1996 & 1 & Decrease (0.5x) & 0 & 1\\\\\n",
       "\t Aripo & 1996 & 1 & Decrease (0.5x) & 1 & 1\\\\\n",
       "\t Aripo & 1996 & 1 & Decrease (0.5x) & 1 & 1\\\\\n",
       "\t Aripo & 1996 & 1 & Decrease (0.5x) & 1 & 1\\\\\n",
       "\\end{tabular}\n"
      ],
      "text/markdown": [
       "\n",
       "A tibble: 6 × 6\n",
       "\n",
       "| Stream &lt;chr&gt; | year &lt;dbl&gt; | replicate &lt;dbl&gt; | TREATMENT &lt;chr&gt; | survival &lt;dbl&gt; | sizeclass &lt;dbl&gt; |\n",
       "|---|---|---|---|---|---|\n",
       "| Aripo | 1996 | 1 | Decrease (0.5x) | 0 | 1 |\n",
       "| Aripo | 1996 | 1 | Decrease (0.5x) | 0 | 1 |\n",
       "| Aripo | 1996 | 1 | Decrease (0.5x) | 0 | 1 |\n",
       "| Aripo | 1996 | 1 | Decrease (0.5x) | 1 | 1 |\n",
       "| Aripo | 1996 | 1 | Decrease (0.5x) | 1 | 1 |\n",
       "| Aripo | 1996 | 1 | Decrease (0.5x) | 1 | 1 |\n",
       "\n"
      ],
      "text/plain": [
       "  Stream year replicate TREATMENT       survival sizeclass\n",
       "1 Aripo  1996 1         Decrease (0.5x) 0        1        \n",
       "2 Aripo  1996 1         Decrease (0.5x) 0        1        \n",
       "3 Aripo  1996 1         Decrease (0.5x) 0        1        \n",
       "4 Aripo  1996 1         Decrease (0.5x) 1        1        \n",
       "5 Aripo  1996 1         Decrease (0.5x) 1        1        \n",
       "6 Aripo  1996 1         Decrease (0.5x) 1        1        "
      ]
     },
     "metadata": {},
     "output_type": "display_data"
    }
   ],
   "source": [
    "S.data = read_xls(\"Examples/Reznick et al 2012/Survival.xls\")\n",
    "head(S.data)"
   ]
  },
  {
   "cell_type": "code",
   "execution_count": 4,
   "metadata": {},
   "outputs": [
    {
     "data": {
      "text/html": [
       "<style>\n",
       ".list-inline {list-style: none; margin:0; padding: 0}\n",
       ".list-inline>li {display: inline-block}\n",
       ".list-inline>li:not(:last-child)::after {content: \"\\00b7\"; padding: 0 .5ex}\n",
       "</style>\n",
       "<ol class=list-inline><li>'Control (1x)'</li><li>'Decrease (0.5x)'</li><li>'Increase (2x)'</li></ol>\n"
      ],
      "text/latex": [
       "\\begin{enumerate*}\n",
       "\\item 'Control (1x)'\n",
       "\\item 'Decrease (0.5x)'\n",
       "\\item 'Increase (2x)'\n",
       "\\end{enumerate*}\n"
      ],
      "text/markdown": [
       "1. 'Control (1x)'\n",
       "2. 'Decrease (0.5x)'\n",
       "3. 'Increase (2x)'\n",
       "\n",
       "\n"
      ],
      "text/plain": [
       "[1] \"Control (1x)\"    \"Decrease (0.5x)\" \"Increase (2x)\"  "
      ]
     },
     "metadata": {},
     "output_type": "display_data"
    },
    {
     "data": {
      "text/html": [
       "<style>\n",
       ".list-inline {list-style: none; margin:0; padding: 0}\n",
       ".list-inline>li {display: inline-block}\n",
       ".list-inline>li:not(:last-child)::after {content: \"\\00b7\"; padding: 0 .5ex}\n",
       "</style>\n",
       "<ol class=list-inline><li>1</li><li>2</li><li>3</li><li>4</li><li>5</li></ol>\n"
      ],
      "text/latex": [
       "\\begin{enumerate*}\n",
       "\\item 1\n",
       "\\item 2\n",
       "\\item 3\n",
       "\\item 4\n",
       "\\item 5\n",
       "\\end{enumerate*}\n"
      ],
      "text/markdown": [
       "1. 1\n",
       "2. 2\n",
       "3. 3\n",
       "4. 4\n",
       "5. 5\n",
       "\n",
       "\n"
      ],
      "text/plain": [
       "[1] 1 2 3 4 5"
      ]
     },
     "metadata": {},
     "output_type": "display_data"
    }
   ],
   "source": [
    "S.data$TREATMENT = factor(S.data$TREATMENT)\n",
    "levels(S.data$TREATMENT)\n"
   ]
  },
  {
   "cell_type": "markdown",
   "metadata": {},
   "source": [
    "To start building some intuition of how model works, we will build some dummy variables that will represent our treatments\n"
   ]
  },
  {
   "cell_type": "code",
   "execution_count": 17,
   "metadata": {},
   "outputs": [
    {
     "data": {
      "text/html": [
       "<style>\n",
       ".list-inline {list-style: none; margin:0; padding: 0}\n",
       ".list-inline>li {display: inline-block}\n",
       ".list-inline>li:not(:last-child)::after {content: \"\\00b7\"; padding: 0 .5ex}\n",
       "</style>\n",
       "<ol class=list-inline><li>'Control (1x)'</li><li>'Decrease (0.5x)'</li><li>'Increase (2x)'</li></ol>\n"
      ],
      "text/latex": [
       "\\begin{enumerate*}\n",
       "\\item 'Control (1x)'\n",
       "\\item 'Decrease (0.5x)'\n",
       "\\item 'Increase (2x)'\n",
       "\\end{enumerate*}\n"
      ],
      "text/markdown": [
       "1. 'Control (1x)'\n",
       "2. 'Decrease (0.5x)'\n",
       "3. 'Increase (2x)'\n",
       "\n",
       "\n"
      ],
      "text/plain": [
       "[1] \"Control (1x)\"    \"Decrease (0.5x)\" \"Increase (2x)\"  "
      ]
     },
     "metadata": {},
     "output_type": "display_data"
    }
   ],
   "source": [
    "levels(S.data$TREATMENT)"
   ]
  },
  {
   "cell_type": "code",
   "execution_count": 18,
   "metadata": {},
   "outputs": [
    {
     "data": {
      "text/html": [
       "<style>\n",
       ".list-inline {list-style: none; margin:0; padding: 0}\n",
       ".list-inline>li {display: inline-block}\n",
       ".list-inline>li:not(:last-child)::after {content: \"\\00b7\"; padding: 0 .5ex}\n",
       "</style>\n",
       "<ol class=list-inline><li>1</li><li>0</li></ol>\n"
      ],
      "text/latex": [
       "\\begin{enumerate*}\n",
       "\\item 1\n",
       "\\item 0\n",
       "\\end{enumerate*}\n"
      ],
      "text/markdown": [
       "1. 1\n",
       "2. 0\n",
       "\n",
       "\n"
      ],
      "text/plain": [
       "[1] 1 0"
      ]
     },
     "metadata": {},
     "output_type": "display_data"
    },
    {
     "data": {
      "text/html": [
       "<style>\n",
       ".list-inline {list-style: none; margin:0; padding: 0}\n",
       ".list-inline>li {display: inline-block}\n",
       ".list-inline>li:not(:last-child)::after {content: \"\\00b7\"; padding: 0 .5ex}\n",
       "</style>\n",
       "<ol class=list-inline><li>0</li><li>1</li></ol>\n"
      ],
      "text/latex": [
       "\\begin{enumerate*}\n",
       "\\item 0\n",
       "\\item 1\n",
       "\\end{enumerate*}\n"
      ],
      "text/markdown": [
       "1. 0\n",
       "2. 1\n",
       "\n",
       "\n"
      ],
      "text/plain": [
       "[1] 0 1"
      ]
     },
     "metadata": {},
     "output_type": "display_data"
    }
   ],
   "source": [
    "# create dummy variable for the decrease density\n",
    "S.data$decrease = factor(S.data$TREATMENT)\n",
    "# make the values 0 or 1\n",
    "levels(S.data$decrease) = c(0,1,0)\n",
    "S.data$decrease = as.numeric(as.character(S.data$decrease))\n",
    "unique(S.data$decrease)\n",
    "\n",
    "# create dummy variable for the decrease density\n",
    "S.data$increase = factor(S.data$TREATMENT)\n",
    "# make the values 0 or 1\n",
    "levels(S.data$increase) = c(0,0,1)\n",
    "S.data$increase = as.numeric(as.character(S.data$increase))\n",
    "unique(S.data$increase)"
   ]
  },
  {
   "cell_type": "markdown",
   "metadata": {},
   "source": [
    "To make things easier to interpreat, we create a new varible from the `sizeclass`, but we will center the values to get a meaninful `intercept` ($\\alpha$). Here, we will center on `2`, what it means is that now `sizeclass 1 = -1, sizeclass 2 = 0, sizeclass 3 = 1, sizeclass 4 = 2, sizeclass 5 = 3`. So, `intercept` ($\\alpha$) of the model will be the estimated survival probability of individuals at `sizeclass 2` in the control pools ( `decrease == 0 & increase == 0`). "
   ]
  },
  {
   "cell_type": "code",
   "execution_count": 16,
   "metadata": {},
   "outputs": [
    {
     "data": {
      "text/html": [
       "<style>\n",
       ".list-inline {list-style: none; margin:0; padding: 0}\n",
       ".list-inline>li {display: inline-block}\n",
       ".list-inline>li:not(:last-child)::after {content: \"\\00b7\"; padding: 0 .5ex}\n",
       "</style>\n",
       "<ol class=list-inline><li>-1</li><li>0</li><li>1</li><li>2</li><li>3</li></ol>\n"
      ],
      "text/latex": [
       "\\begin{enumerate*}\n",
       "\\item -1\n",
       "\\item 0\n",
       "\\item 1\n",
       "\\item 2\n",
       "\\item 3\n",
       "\\end{enumerate*}\n"
      ],
      "text/markdown": [
       "1. -1\n",
       "2. 0\n",
       "3. 1\n",
       "4. 2\n",
       "5. 3\n",
       "\n",
       "\n"
      ],
      "text/plain": [
       "[1] -1  0  1  2  3"
      ]
     },
     "metadata": {},
     "output_type": "display_data"
    }
   ],
   "source": [
    "S.data$size_c = S.data$sizeclass - 2\n",
    "\n",
    "unique(S.data$size_c)"
   ]
  },
  {
   "cell_type": "markdown",
   "metadata": {},
   "source": [
    "### Estimating survial probability"
   ]
  },
  {
   "cell_type": "markdown",
   "metadata": {},
   "source": [
    "So, we are going to model `survival` as a function of sizeclass and the density treatment. First, we are going to start with the 'Rethinking R package', modeling the effects of density. So, always start by writing the model:\n",
    "\n",
    "\n",
    "<center> $Surv_{i}$ $\\approx$ $binomial(1, p_{i})$, `this is the likelihood`<center>\n",
    "\n",
    "<center> logit($p_{i}$) = $alpha$ + $\\beta_{D}$*decrease$_{i}$ + $\\beta_{I}$*increase$_{i}$,  `this is the linear model`<center>\n",
    "\n",
    "<center> $\\alpha \\approx normal(0,10)$, `this is the prior for the intercept`<center>\n",
    "\n",
    "<center> $\\beta_{D} \\approx normal(0,10)$, `this is the prior for decrease`<center>\n",
    " \n",
    "<center> $\\beta_{I} \\approx normal(0,10)$, `this is the prior for increase`<center>\n"
   ]
  },
  {
   "cell_type": "code",
   "execution_count": 26,
   "metadata": {},
   "outputs": [
    {
     "name": "stderr",
     "output_type": "stream",
     "text": [
      "Removing one or more character or factor variables:\n",
      "\n",
      "Stream\n",
      "\n"
     ]
    }
   ],
   "source": [
    "S.m1 = ulam(alist(\n",
    "    survival ~ dbinom( 1 , p ), # likelihood\n",
    "    logit(p) <- a + b_D*decrease + # linear model\n",
    "        b_I*increase,                      # linear model\n",
    "# piors\n",
    "    a ~ dnorm(0,10),\n",
    "    b_D ~ dnorm(0,10),\n",
    "    b_I ~ dnorm(0,10)\n",
    "), data = S.data, \n",
    "  cores= 2, chains = 2, iter=2000, warmup = 1000)"
   ]
  },
  {
   "cell_type": "code",
   "execution_count": 29,
   "metadata": {},
   "outputs": [
    {
     "data": {
      "text/html": [
       "<table>\n",
       "<caption>A precis: 3 × 6</caption>\n",
       "<thead>\n",
       "\t<tr><th></th><th scope=col>mean</th><th scope=col>sd</th><th scope=col>2.5%</th><th scope=col>97.5%</th><th scope=col>n_eff</th><th scope=col>Rhat4</th></tr>\n",
       "\t<tr><th></th><th scope=col>&lt;dbl&gt;</th><th scope=col>&lt;dbl&gt;</th><th scope=col>&lt;dbl&gt;</th><th scope=col>&lt;dbl&gt;</th><th scope=col>&lt;dbl&gt;</th><th scope=col>&lt;dbl&gt;</th></tr>\n",
       "</thead>\n",
       "<tbody>\n",
       "\t<tr><th scope=row>a</th><td> 0.9229895</td><td>0.1053312</td><td> 0.71538207</td><td> 1.12446281</td><td>555.2694</td><td>1.004736</td></tr>\n",
       "\t<tr><th scope=row>b_D</th><td> 0.3698537</td><td>0.1671494</td><td> 0.05442366</td><td> 0.71007629</td><td>716.0392</td><td>1.003706</td></tr>\n",
       "\t<tr><th scope=row>b_I</th><td>-0.3413245</td><td>0.1278298</td><td>-0.59264446</td><td>-0.08128417</td><td>591.8441</td><td>1.003721</td></tr>\n",
       "</tbody>\n",
       "</table>\n"
      ],
      "text/latex": [
       "A precis: 3 × 6\n",
       "\\begin{tabular}{r|llllll}\n",
       "  & mean & sd & 2.5\\% & 97.5\\% & n\\_eff & Rhat4\\\\\n",
       "  & <dbl> & <dbl> & <dbl> & <dbl> & <dbl> & <dbl>\\\\\n",
       "\\hline\n",
       "\ta &  0.9229895 & 0.1053312 &  0.71538207 &  1.12446281 & 555.2694 & 1.004736\\\\\n",
       "\tb\\_D &  0.3698537 & 0.1671494 &  0.05442366 &  0.71007629 & 716.0392 & 1.003706\\\\\n",
       "\tb\\_I & -0.3413245 & 0.1278298 & -0.59264446 & -0.08128417 & 591.8441 & 1.003721\\\\\n",
       "\\end{tabular}\n"
      ],
      "text/markdown": [
       "\n",
       "A precis: 3 × 6\n",
       "\n",
       "| <!--/--> | mean &lt;dbl&gt; | sd &lt;dbl&gt; | 2.5% &lt;dbl&gt; | 97.5% &lt;dbl&gt; | n_eff &lt;dbl&gt; | Rhat4 &lt;dbl&gt; |\n",
       "|---|---|---|---|---|---|---|\n",
       "| a |  0.9229895 | 0.1053312 |  0.71538207 |  1.12446281 | 555.2694 | 1.004736 |\n",
       "| b_D |  0.3698537 | 0.1671494 |  0.05442366 |  0.71007629 | 716.0392 | 1.003706 |\n",
       "| b_I | -0.3413245 | 0.1278298 | -0.59264446 | -0.08128417 | 591.8441 | 1.003721 |\n",
       "\n"
      ],
      "text/plain": [
       "    mean       sd        2.5%        97.5%       n_eff    Rhat4   \n",
       "a    0.9229895 0.1053312  0.71538207  1.12446281 555.2694 1.004736\n",
       "b_D  0.3698537 0.1671494  0.05442366  0.71007629 716.0392 1.003706\n",
       "b_I -0.3413245 0.1278298 -0.59264446 -0.08128417 591.8441 1.003721"
      ]
     },
     "metadata": {},
     "output_type": "display_data"
    }
   ],
   "source": [
    "precis(S.m1, prob = .95) # rember the values in this table are in the logistic scale"
   ]
  },
  {
   "cell_type": "code",
   "execution_count": 32,
   "metadata": {},
   "outputs": [],
   "source": [
    "# so, let's get the posterior samples\n",
    "post_S.m1 = extract.samples(S.m1)\n"
   ]
  },
  {
   "cell_type": "code",
   "execution_count": 37,
   "metadata": {},
   "outputs": [
    {
     "data": {
      "text/html": [
       "0.5"
      ],
      "text/latex": [
       "0.5"
      ],
      "text/markdown": [
       "0.5"
      ],
      "text/plain": [
       "[1] 0.5"
      ]
     },
     "metadata": {},
     "output_type": "display_data"
    },
    {
     "data": {
      "text/html": [
       "0.622459331201855"
      ],
      "text/latex": [
       "0.622459331201855"
      ],
      "text/markdown": [
       "0.622459331201855"
      ],
      "text/plain": [
       "[1] 0.6224593"
      ]
     },
     "metadata": {},
     "output_type": "display_data"
    },
    {
     "data": {
      "text/html": [
       "0.710949502625004"
      ],
      "text/latex": [
       "0.710949502625004"
      ],
      "text/markdown": [
       "0.710949502625004"
      ],
      "text/plain": [
       "[1] 0.7109495"
      ]
     },
     "metadata": {},
     "output_type": "display_data"
    },
    {
     "data": {
      "text/html": [
       "0.952574126822433"
      ],
      "text/latex": [
       "0.952574126822433"
      ],
      "text/markdown": [
       "0.952574126822433"
      ],
      "text/plain": [
       "[1] 0.9525741"
      ]
     },
     "metadata": {},
     "output_type": "display_data"
    }
   ],
   "source": [
    "# To convert this values to probabilities, we should inverst logit the values\n",
    "inv_logit(0) # 50%\n",
    "inv_logit(0.5) # 62%\n",
    "inv_logit(0.9) # 71%\n",
    "inv_logit(3) # 95"
   ]
  },
  {
   "cell_type": "code",
   "execution_count": 39,
   "metadata": {},
   "outputs": [
    {
     "data": {
      "text/html": [
       "<table>\n",
       "<caption>A precis: 6 × 5</caption>\n",
       "<thead>\n",
       "\t<tr><th></th><th scope=col>mean</th><th scope=col>sd</th><th scope=col>5.5%</th><th scope=col>94.5%</th><th scope=col>histogram</th></tr>\n",
       "\t<tr><th></th><th scope=col>&lt;dbl&gt;</th><th scope=col>&lt;dbl&gt;</th><th scope=col>&lt;dbl&gt;</th><th scope=col>&lt;dbl&gt;</th><th scope=col>&lt;chr&gt;</th></tr>\n",
       "</thead>\n",
       "<tbody>\n",
       "\t<tr><th scope=row>a</th><td> 0.9229895</td><td>0.10533117</td><td> 0.7523031</td><td> 1.0919488</td><td>▁▁▁▁▂▅▅▇▅▅▂▁▁▁▁</td></tr>\n",
       "\t<tr><th scope=row>b_D</th><td> 0.3698537</td><td>0.16714941</td><td> 0.1067431</td><td> 0.6403754</td><td>▁▁▃▅▇▇▃▂▁▁▁    </td></tr>\n",
       "\t<tr><th scope=row>b_I</th><td>-0.3413245</td><td>0.12782978</td><td>-0.5421331</td><td>-0.1336709</td><td>▁▁▂▅▇▅▂▁▁      </td></tr>\n",
       "\t<tr><th scope=row>S_control</th><td> 0.7151665</td><td>0.02144158</td><td> 0.6796803</td><td> 0.7487485</td><td>▁▁▁▁▂▅▅▇▇▅▂▁▁▁ </td></tr>\n",
       "\t<tr><th scope=row>S_decrease</th><td> 0.7837643</td><td>0.02267114</td><td> 0.7472446</td><td> 0.8194837</td><td>▁▁▂▇▇▃▁▁       </td></tr>\n",
       "\t<tr><th scope=row>S_increase</th><td> 0.6412852</td><td>0.01640300</td><td> 0.6149054</td><td> 0.6664524</td><td>▁▁▁▂▅▇▇▅▂▁▁▁   </td></tr>\n",
       "</tbody>\n",
       "</table>\n"
      ],
      "text/latex": [
       "A precis: 6 × 5\n",
       "\\begin{tabular}{r|lllll}\n",
       "  & mean & sd & 5.5\\% & 94.5\\% & histogram\\\\\n",
       "  & <dbl> & <dbl> & <dbl> & <dbl> & <chr>\\\\\n",
       "\\hline\n",
       "\ta &  0.9229895 & 0.10533117 &  0.7523031 &  1.0919488 & ▁▁▁▁▂▅▅▇▅▅▂▁▁▁▁\\\\\n",
       "\tb\\_D &  0.3698537 & 0.16714941 &  0.1067431 &  0.6403754 & ▁▁▃▅▇▇▃▂▁▁▁    \\\\\n",
       "\tb\\_I & -0.3413245 & 0.12782978 & -0.5421331 & -0.1336709 & ▁▁▂▅▇▅▂▁▁      \\\\\n",
       "\tS\\_control &  0.7151665 & 0.02144158 &  0.6796803 &  0.7487485 & ▁▁▁▁▂▅▅▇▇▅▂▁▁▁ \\\\\n",
       "\tS\\_decrease &  0.7837643 & 0.02267114 &  0.7472446 &  0.8194837 & ▁▁▂▇▇▃▁▁       \\\\\n",
       "\tS\\_increase &  0.6412852 & 0.01640300 &  0.6149054 &  0.6664524 & ▁▁▁▂▅▇▇▅▂▁▁▁   \\\\\n",
       "\\end{tabular}\n"
      ],
      "text/markdown": [
       "\n",
       "A precis: 6 × 5\n",
       "\n",
       "| <!--/--> | mean &lt;dbl&gt; | sd &lt;dbl&gt; | 5.5% &lt;dbl&gt; | 94.5% &lt;dbl&gt; | histogram &lt;chr&gt; |\n",
       "|---|---|---|---|---|---|\n",
       "| a |  0.9229895 | 0.10533117 |  0.7523031 |  1.0919488 | ▁▁▁▁▂▅▅▇▅▅▂▁▁▁▁ |\n",
       "| b_D |  0.3698537 | 0.16714941 |  0.1067431 |  0.6403754 | ▁▁▃▅▇▇▃▂▁▁▁     |\n",
       "| b_I | -0.3413245 | 0.12782978 | -0.5421331 | -0.1336709 | ▁▁▂▅▇▅▂▁▁       |\n",
       "| S_control |  0.7151665 | 0.02144158 |  0.6796803 |  0.7487485 | ▁▁▁▁▂▅▅▇▇▅▂▁▁▁  |\n",
       "| S_decrease |  0.7837643 | 0.02267114 |  0.7472446 |  0.8194837 | ▁▁▂▇▇▃▁▁        |\n",
       "| S_increase |  0.6412852 | 0.01640300 |  0.6149054 |  0.6664524 | ▁▁▁▂▅▇▇▅▂▁▁▁    |\n",
       "\n"
      ],
      "text/plain": [
       "           mean       sd         5.5%       94.5%      histogram      \n",
       "a           0.9229895 0.10533117  0.7523031  1.0919488 ▁▁▁▁▂▅▅▇▅▅▂▁▁▁▁\n",
       "b_D         0.3698537 0.16714941  0.1067431  0.6403754 ▁▁▃▅▇▇▃▂▁▁▁    \n",
       "b_I        -0.3413245 0.12782978 -0.5421331 -0.1336709 ▁▁▂▅▇▅▂▁▁      \n",
       "S_control   0.7151665 0.02144158  0.6796803  0.7487485 ▁▁▁▁▂▅▅▇▇▅▂▁▁▁ \n",
       "S_decrease  0.7837643 0.02267114  0.7472446  0.8194837 ▁▁▂▇▇▃▁▁       \n",
       "S_increase  0.6412852 0.01640300  0.6149054  0.6664524 ▁▁▁▂▅▇▇▅▂▁▁▁   "
      ]
     },
     "metadata": {},
     "output_type": "display_data"
    }
   ],
   "source": [
    "post_S.m1$S_control = inv_logit(post_S.m1$a) \n",
    "post_S.m1$S_decrease = inv_logit(post_S.m1$a + post_S.m1$b_D ) \n",
    "post_S.m1$S_increase = inv_logit(post_S.m1$a + post_S.m1$b_I ) \n",
    "\n",
    "# see the results\n",
    "precis(post_S.m1)"
   ]
  },
  {
   "cell_type": "markdown",
   "metadata": {},
   "source": [
    "### Testing hypothesis"
   ]
  },
  {
   "cell_type": "code",
   "execution_count": 41,
   "metadata": {},
   "outputs": [
    {
     "data": {
      "text/html": [
       "<table>\n",
       "<caption>A precis: 7 × 5</caption>\n",
       "<thead>\n",
       "\t<tr><th></th><th scope=col>mean</th><th scope=col>sd</th><th scope=col>5.5%</th><th scope=col>94.5%</th><th scope=col>histogram</th></tr>\n",
       "\t<tr><th></th><th scope=col>&lt;dbl&gt;</th><th scope=col>&lt;dbl&gt;</th><th scope=col>&lt;dbl&gt;</th><th scope=col>&lt;dbl&gt;</th><th scope=col>&lt;chr&gt;</th></tr>\n",
       "</thead>\n",
       "<tbody>\n",
       "\t<tr><th scope=row>a</th><td> 0.92298951</td><td>0.10533117</td><td> 0.7523031</td><td> 1.09194878</td><td>▁▁▁▁▂▅▅▇▅▅▂▁▁▁▁</td></tr>\n",
       "\t<tr><th scope=row>b_D</th><td> 0.36985373</td><td>0.16714941</td><td> 0.1067431</td><td> 0.64037537</td><td>▁▁▃▅▇▇▃▂▁▁▁    </td></tr>\n",
       "\t<tr><th scope=row>b_I</th><td>-0.34132454</td><td>0.12782978</td><td>-0.5421331</td><td>-0.13367086</td><td>▁▁▂▅▇▅▂▁▁      </td></tr>\n",
       "\t<tr><th scope=row>S_control</th><td> 0.71516652</td><td>0.02144158</td><td> 0.6796803</td><td> 0.74874851</td><td>▁▁▁▁▂▅▅▇▇▅▂▁▁▁ </td></tr>\n",
       "\t<tr><th scope=row>S_decrease</th><td> 0.78376433</td><td>0.02267114</td><td> 0.7472446</td><td> 0.81948369</td><td>▁▁▂▇▇▃▁▁       </td></tr>\n",
       "\t<tr><th scope=row>S_increase</th><td> 0.64128522</td><td>0.01640300</td><td> 0.6149054</td><td> 0.66645244</td><td>▁▁▁▂▅▇▇▅▂▁▁▁   </td></tr>\n",
       "\t<tr><th scope=row>S_IvsC</th><td>-0.07388129</td><td>0.02714008</td><td>-0.1160389</td><td>-0.02942973</td><td>▁▁▃▇▇▅▂▁▁      </td></tr>\n",
       "</tbody>\n",
       "</table>\n"
      ],
      "text/latex": [
       "A precis: 7 × 5\n",
       "\\begin{tabular}{r|lllll}\n",
       "  & mean & sd & 5.5\\% & 94.5\\% & histogram\\\\\n",
       "  & <dbl> & <dbl> & <dbl> & <dbl> & <chr>\\\\\n",
       "\\hline\n",
       "\ta &  0.92298951 & 0.10533117 &  0.7523031 &  1.09194878 & ▁▁▁▁▂▅▅▇▅▅▂▁▁▁▁\\\\\n",
       "\tb\\_D &  0.36985373 & 0.16714941 &  0.1067431 &  0.64037537 & ▁▁▃▅▇▇▃▂▁▁▁    \\\\\n",
       "\tb\\_I & -0.34132454 & 0.12782978 & -0.5421331 & -0.13367086 & ▁▁▂▅▇▅▂▁▁      \\\\\n",
       "\tS\\_control &  0.71516652 & 0.02144158 &  0.6796803 &  0.74874851 & ▁▁▁▁▂▅▅▇▇▅▂▁▁▁ \\\\\n",
       "\tS\\_decrease &  0.78376433 & 0.02267114 &  0.7472446 &  0.81948369 & ▁▁▂▇▇▃▁▁       \\\\\n",
       "\tS\\_increase &  0.64128522 & 0.01640300 &  0.6149054 &  0.66645244 & ▁▁▁▂▅▇▇▅▂▁▁▁   \\\\\n",
       "\tS\\_IvsC & -0.07388129 & 0.02714008 & -0.1160389 & -0.02942973 & ▁▁▃▇▇▅▂▁▁      \\\\\n",
       "\\end{tabular}\n"
      ],
      "text/markdown": [
       "\n",
       "A precis: 7 × 5\n",
       "\n",
       "| <!--/--> | mean &lt;dbl&gt; | sd &lt;dbl&gt; | 5.5% &lt;dbl&gt; | 94.5% &lt;dbl&gt; | histogram &lt;chr&gt; |\n",
       "|---|---|---|---|---|---|\n",
       "| a |  0.92298951 | 0.10533117 |  0.7523031 |  1.09194878 | ▁▁▁▁▂▅▅▇▅▅▂▁▁▁▁ |\n",
       "| b_D |  0.36985373 | 0.16714941 |  0.1067431 |  0.64037537 | ▁▁▃▅▇▇▃▂▁▁▁     |\n",
       "| b_I | -0.34132454 | 0.12782978 | -0.5421331 | -0.13367086 | ▁▁▂▅▇▅▂▁▁       |\n",
       "| S_control |  0.71516652 | 0.02144158 |  0.6796803 |  0.74874851 | ▁▁▁▁▂▅▅▇▇▅▂▁▁▁  |\n",
       "| S_decrease |  0.78376433 | 0.02267114 |  0.7472446 |  0.81948369 | ▁▁▂▇▇▃▁▁        |\n",
       "| S_increase |  0.64128522 | 0.01640300 |  0.6149054 |  0.66645244 | ▁▁▁▂▅▇▇▅▂▁▁▁    |\n",
       "| S_IvsC | -0.07388129 | 0.02714008 | -0.1160389 | -0.02942973 | ▁▁▃▇▇▅▂▁▁       |\n",
       "\n"
      ],
      "text/plain": [
       "           mean        sd         5.5%       94.5%       histogram      \n",
       "a           0.92298951 0.10533117  0.7523031  1.09194878 ▁▁▁▁▂▅▅▇▅▅▂▁▁▁▁\n",
       "b_D         0.36985373 0.16714941  0.1067431  0.64037537 ▁▁▃▅▇▇▃▂▁▁▁    \n",
       "b_I        -0.34132454 0.12782978 -0.5421331 -0.13367086 ▁▁▂▅▇▅▂▁▁      \n",
       "S_control   0.71516652 0.02144158  0.6796803  0.74874851 ▁▁▁▁▂▅▅▇▇▅▂▁▁▁ \n",
       "S_decrease  0.78376433 0.02267114  0.7472446  0.81948369 ▁▁▂▇▇▃▁▁       \n",
       "S_increase  0.64128522 0.01640300  0.6149054  0.66645244 ▁▁▁▂▅▇▇▅▂▁▁▁   \n",
       "S_IvsC     -0.07388129 0.02714008 -0.1160389 -0.02942973 ▁▁▃▇▇▅▂▁▁      "
      ]
     },
     "metadata": {},
     "output_type": "display_data"
    }
   ],
   "source": [
    "# test hypothesis\n",
    "# increasing the density by 2x increases guppy mortality\n",
    "post_S.m1$S_IvsC  = post_S.m1$S_increase - post_S.m1$S_control \n",
    "# see the results\n",
    "precis(post_S.m1)"
   ]
  },
  {
   "cell_type": "code",
   "execution_count": null,
   "metadata": {},
   "outputs": [],
   "source": []
  },
  {
   "cell_type": "markdown",
   "metadata": {},
   "source": [
    "The test suggest that increasing density reduces survival by approximatly 7.4% (2.9 - 11.6%, CI 95%)"
   ]
  },
  {
   "cell_type": "markdown",
   "metadata": {},
   "source": [
    "\n",
    "$Surv_{i}$ $\\approx$ $binomial(1, p_{i})$, `this is the likelihood`\n",
    "\n",
    "logit($p_{i}$) = $alpha$ + $\\beta_{D}$*decrease$_{i}$ + $\\beta_{I}$*increase$_{i}$  + size_c$_{i}$ * ($\\beta_{S}$    + $\\beta_{SxD}$ * decrease$_{i}$ + $\\beta_{SxI}$*increase$_{i}$),  `this is the linear model`\n",
    "\n",
    "$\\alpha \\approx normal(0,10)$, `this is the prior for the intercept`\n",
    "\n",
    "$\\beta_{S} \\approx normal(0,10)$, `this is the prior for sizeclass`\n",
    "\n",
    "$\\beta_{D} \\approx normal(0,10)$, `this is the prior for decrease`\n",
    " \n",
    "$\\beta_{I} \\approx normal(0,10)$, `this is the prior for increase`\n",
    "\n",
    "$\\beta_{SxD} \\approx normal(0,10)$, `this is the prior for interaction`\n",
    "\n",
    "$\\beta_{SxI} \\approx normal(0,10)$, `this is the prior for interaction`\n",
    "\n",
    "$\\alpha$_S$_{Stream_{i}}$ ~ normal(0,$\\sigma_{Stream})$, `this is the prior for the randome effect stream`\n",
    "\n",
    "$\\sigma_{Stream} \\approx cauchy(0,2)$, `this is the prior for the random error`\n",
    "\n",
    "$\\alpha$_R$_{replicate_{i}}$ ~ normal(0,$\\sigma_{replicate})$, `this is the prior for the randome effect replicate`\n",
    "\n",
    "$\\sigma_{replicate} \\approx cauchy(0,2)$, `this is the prior for the random error`\n",
    "\n",
    "\n",
    "\n"
   ]
  },
  {
   "cell_type": "code",
   "execution_count": 25,
   "metadata": {},
   "outputs": [
    {
     "name": "stdout",
     "output_type": "stream",
     "text": [
      "alist(\n",
      "    survival ~ dbinom( 1 , p ),\n",
      "    logit(p) <- Intercept +\n",
      "        b_decrease*decrease +\n",
      "        b_increase*increase,\n",
      "    Intercept ~ dnorm(0,10),\n",
      "    b_decrease ~ dnorm(0,10),\n",
      "    b_increase ~ dnorm(0,10)\n",
      ")\n"
     ]
    }
   ],
   "source": [
    "glimmer(survival ~ decrease + increase , family = binomial(), data = S.data)"
   ]
  }
 ],
 "metadata": {
  "@webio": {
   "lastCommId": null,
   "lastKernelId": null
  },
  "kernelspec": {
   "display_name": "R",
   "language": "R",
   "name": "ir"
  },
  "language_info": {
   "codemirror_mode": "r",
   "file_extension": ".r",
   "mimetype": "text/x-r-source",
   "name": "R",
   "pygments_lexer": "r",
   "version": "4.0.3"
  }
 },
 "nbformat": 4,
 "nbformat_minor": 4
}
