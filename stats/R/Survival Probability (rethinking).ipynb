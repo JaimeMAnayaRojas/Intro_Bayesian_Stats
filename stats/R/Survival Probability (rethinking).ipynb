{
 "cells": [
  {
   "cell_type": "code",
   "execution_count": 1,
   "metadata": {},
   "outputs": [
    {
     "name": "stderr",
     "output_type": "stream",
     "text": [
      "Loading required package: rstan\n",
      "\n",
      "Loading required package: StanHeaders\n",
      "\n",
      "Loading required package: ggplot2\n",
      "\n",
      "rstan (Version 2.21.2, GitRev: 2e1f913d3ca3)\n",
      "\n",
      "For execution on a local, multicore CPU with excess RAM we recommend calling\n",
      "options(mc.cores = parallel::detectCores()).\n",
      "To avoid recompilation of unchanged Stan programs, we recommend calling\n",
      "rstan_options(auto_write = TRUE)\n",
      "\n",
      "Loading required package: parallel\n",
      "\n",
      "rethinking (Version 2.13)\n",
      "\n",
      "\n",
      "Attaching package: ‘rethinking’\n",
      "\n",
      "\n",
      "The following object is masked from ‘package:stats’:\n",
      "\n",
      "    rstudent\n",
      "\n",
      "\n",
      "Loading required package: Rcpp\n",
      "\n",
      "Loading 'brms' package (version 2.15.0). Useful instructions\n",
      "can be found by typing help('brms'). A more detailed introduction\n",
      "to the package is available through vignette('brms_overview').\n",
      "\n",
      "\n",
      "Attaching package: ‘brms’\n",
      "\n",
      "\n",
      "The following objects are masked from ‘package:rethinking’:\n",
      "\n",
      "    LOO, stancode, WAIC\n",
      "\n",
      "\n",
      "The following object is masked from ‘package:rstan’:\n",
      "\n",
      "    loo\n",
      "\n",
      "\n",
      "The following object is masked from ‘package:stats’:\n",
      "\n",
      "    ar\n",
      "\n",
      "\n"
     ]
    }
   ],
   "source": [
    "# load the packages\n",
    "library(rethinking)\n",
    "library(brms)\n",
    "library('readxl')"
   ]
  },
  {
   "cell_type": "markdown",
   "metadata": {},
   "source": [
    "# Example 2: Estimating the effect of density on guppy survival"
   ]
  },
  {
   "cell_type": "markdown",
   "metadata": {},
   "source": [
    "## Step 2: Load you data. \n",
    "\n",
    "In this Notebook, I will show you how to run some models on data from **The Guppy Project** and published in Reznick et al., 2002. In which he manipulated the density of guppies in natural fish communities of trinidad where predators are absent. This study is one of the first studies to investigate whether guppy populations that live in the absend of predators are *density regulated*. David Reznick et al 2002 went to the fild individually mark each fish and came back after 25 days and estimated the effects of fish density on several life history traits: individual survival, growth rates, and probability of reproduciton, among others. Additionally, they evaluated the influence of body size on those vital rates and how this relationship was change by the density manipulatons. "
   ]
  },
  {
   "cell_type": "code",
   "execution_count": 3,
   "metadata": {},
   "outputs": [
    {
     "data": {
      "text/html": [
       "<table class=\"dataframe\">\n",
       "<caption>A data.frame: 6 × 6</caption>\n",
       "<thead>\n",
       "\t<tr><th></th><th scope=col>Stream</th><th scope=col>year</th><th scope=col>replicate</th><th scope=col>TREATMENT</th><th scope=col>survival</th><th scope=col>sizeclass</th></tr>\n",
       "\t<tr><th></th><th scope=col>&lt;chr&gt;</th><th scope=col>&lt;chr&gt;</th><th scope=col>&lt;int&gt;</th><th scope=col>&lt;chr&gt;</th><th scope=col>&lt;dbl&gt;</th><th scope=col>&lt;dbl&gt;</th></tr>\n",
       "</thead>\n",
       "<tbody>\n",
       "\t<tr><th scope=row>1</th><td>Aripo</td><td>1,996</td><td>1</td><td>Decrease (0.5x)</td><td>0</td><td>1</td></tr>\n",
       "\t<tr><th scope=row>2</th><td>Aripo</td><td>1,996</td><td>1</td><td>Decrease (0.5x)</td><td>0</td><td>1</td></tr>\n",
       "\t<tr><th scope=row>3</th><td>Aripo</td><td>1,996</td><td>1</td><td>Decrease (0.5x)</td><td>0</td><td>1</td></tr>\n",
       "\t<tr><th scope=row>4</th><td>Aripo</td><td>1,996</td><td>1</td><td>Decrease (0.5x)</td><td>1</td><td>1</td></tr>\n",
       "\t<tr><th scope=row>5</th><td>Aripo</td><td>1,996</td><td>1</td><td>Decrease (0.5x)</td><td>1</td><td>1</td></tr>\n",
       "\t<tr><th scope=row>6</th><td>Aripo</td><td>1,996</td><td>1</td><td>Decrease (0.5x)</td><td>1</td><td>1</td></tr>\n",
       "</tbody>\n",
       "</table>\n"
      ],
      "text/latex": [
       "A data.frame: 6 × 6\n",
       "\\begin{tabular}{r|llllll}\n",
       "  & Stream & year & replicate & TREATMENT & survival & sizeclass\\\\\n",
       "  & <chr> & <chr> & <int> & <chr> & <dbl> & <dbl>\\\\\n",
       "\\hline\n",
       "\t1 & Aripo & 1,996 & 1 & Decrease (0.5x) & 0 & 1\\\\\n",
       "\t2 & Aripo & 1,996 & 1 & Decrease (0.5x) & 0 & 1\\\\\n",
       "\t3 & Aripo & 1,996 & 1 & Decrease (0.5x) & 0 & 1\\\\\n",
       "\t4 & Aripo & 1,996 & 1 & Decrease (0.5x) & 1 & 1\\\\\n",
       "\t5 & Aripo & 1,996 & 1 & Decrease (0.5x) & 1 & 1\\\\\n",
       "\t6 & Aripo & 1,996 & 1 & Decrease (0.5x) & 1 & 1\\\\\n",
       "\\end{tabular}\n"
      ],
      "text/markdown": [
       "\n",
       "A data.frame: 6 × 6\n",
       "\n",
       "| <!--/--> | Stream &lt;chr&gt; | year &lt;chr&gt; | replicate &lt;int&gt; | TREATMENT &lt;chr&gt; | survival &lt;dbl&gt; | sizeclass &lt;dbl&gt; |\n",
       "|---|---|---|---|---|---|---|\n",
       "| 1 | Aripo | 1,996 | 1 | Decrease (0.5x) | 0 | 1 |\n",
       "| 2 | Aripo | 1,996 | 1 | Decrease (0.5x) | 0 | 1 |\n",
       "| 3 | Aripo | 1,996 | 1 | Decrease (0.5x) | 0 | 1 |\n",
       "| 4 | Aripo | 1,996 | 1 | Decrease (0.5x) | 1 | 1 |\n",
       "| 5 | Aripo | 1,996 | 1 | Decrease (0.5x) | 1 | 1 |\n",
       "| 6 | Aripo | 1,996 | 1 | Decrease (0.5x) | 1 | 1 |\n",
       "\n"
      ],
      "text/plain": [
       "  Stream year  replicate TREATMENT       survival sizeclass\n",
       "1 Aripo  1,996 1         Decrease (0.5x) 0        1        \n",
       "2 Aripo  1,996 1         Decrease (0.5x) 0        1        \n",
       "3 Aripo  1,996 1         Decrease (0.5x) 0        1        \n",
       "4 Aripo  1,996 1         Decrease (0.5x) 1        1        \n",
       "5 Aripo  1,996 1         Decrease (0.5x) 1        1        \n",
       "6 Aripo  1,996 1         Decrease (0.5x) 1        1        "
      ]
     },
     "metadata": {},
     "output_type": "display_data"
    }
   ],
   "source": [
    "S.data = read.csv(\"../Examples/Reznick et al 2012/Survival.csv\")\n",
    "head(S.data)"
   ]
  },
  {
   "cell_type": "code",
   "execution_count": 4,
   "metadata": {},
   "outputs": [
    {
     "data": {
      "text/html": [
       "<style>\n",
       ".list-inline {list-style: none; margin:0; padding: 0}\n",
       ".list-inline>li {display: inline-block}\n",
       ".list-inline>li:not(:last-child)::after {content: \"\\00b7\"; padding: 0 .5ex}\n",
       "</style>\n",
       "<ol class=list-inline><li>'Control (1x)'</li><li>'Decrease (0.5x)'</li><li>'Increase (2x)'</li></ol>\n"
      ],
      "text/latex": [
       "\\begin{enumerate*}\n",
       "\\item 'Control (1x)'\n",
       "\\item 'Decrease (0.5x)'\n",
       "\\item 'Increase (2x)'\n",
       "\\end{enumerate*}\n"
      ],
      "text/markdown": [
       "1. 'Control (1x)'\n",
       "2. 'Decrease (0.5x)'\n",
       "3. 'Increase (2x)'\n",
       "\n",
       "\n"
      ],
      "text/plain": [
       "[1] \"Control (1x)\"    \"Decrease (0.5x)\" \"Increase (2x)\"  "
      ]
     },
     "metadata": {},
     "output_type": "display_data"
    }
   ],
   "source": [
    "S.data$TREATMENT = factor(S.data$TREATMENT)\n",
    "levels(S.data$TREATMENT)\n"
   ]
  },
  {
   "cell_type": "markdown",
   "metadata": {},
   "source": [
    "To start building some intuition of how model works, we will build some dummy variables that will represent our treatments\n"
   ]
  },
  {
   "cell_type": "code",
   "execution_count": 5,
   "metadata": {},
   "outputs": [
    {
     "data": {
      "text/html": [
       "<style>\n",
       ".list-inline {list-style: none; margin:0; padding: 0}\n",
       ".list-inline>li {display: inline-block}\n",
       ".list-inline>li:not(:last-child)::after {content: \"\\00b7\"; padding: 0 .5ex}\n",
       "</style>\n",
       "<ol class=list-inline><li>'Control (1x)'</li><li>'Decrease (0.5x)'</li><li>'Increase (2x)'</li></ol>\n"
      ],
      "text/latex": [
       "\\begin{enumerate*}\n",
       "\\item 'Control (1x)'\n",
       "\\item 'Decrease (0.5x)'\n",
       "\\item 'Increase (2x)'\n",
       "\\end{enumerate*}\n"
      ],
      "text/markdown": [
       "1. 'Control (1x)'\n",
       "2. 'Decrease (0.5x)'\n",
       "3. 'Increase (2x)'\n",
       "\n",
       "\n"
      ],
      "text/plain": [
       "[1] \"Control (1x)\"    \"Decrease (0.5x)\" \"Increase (2x)\"  "
      ]
     },
     "metadata": {},
     "output_type": "display_data"
    }
   ],
   "source": [
    "levels(S.data$TREATMENT)"
   ]
  },
  {
   "cell_type": "code",
   "execution_count": 6,
   "metadata": {},
   "outputs": [
    {
     "data": {
      "text/html": [
       "<style>\n",
       ".list-inline {list-style: none; margin:0; padding: 0}\n",
       ".list-inline>li {display: inline-block}\n",
       ".list-inline>li:not(:last-child)::after {content: \"\\00b7\"; padding: 0 .5ex}\n",
       "</style>\n",
       "<ol class=list-inline><li>1</li><li>0</li></ol>\n"
      ],
      "text/latex": [
       "\\begin{enumerate*}\n",
       "\\item 1\n",
       "\\item 0\n",
       "\\end{enumerate*}\n"
      ],
      "text/markdown": [
       "1. 1\n",
       "2. 0\n",
       "\n",
       "\n"
      ],
      "text/plain": [
       "[1] 1 0"
      ]
     },
     "metadata": {},
     "output_type": "display_data"
    },
    {
     "data": {
      "text/html": [
       "<style>\n",
       ".list-inline {list-style: none; margin:0; padding: 0}\n",
       ".list-inline>li {display: inline-block}\n",
       ".list-inline>li:not(:last-child)::after {content: \"\\00b7\"; padding: 0 .5ex}\n",
       "</style>\n",
       "<ol class=list-inline><li>0</li><li>1</li></ol>\n"
      ],
      "text/latex": [
       "\\begin{enumerate*}\n",
       "\\item 0\n",
       "\\item 1\n",
       "\\end{enumerate*}\n"
      ],
      "text/markdown": [
       "1. 0\n",
       "2. 1\n",
       "\n",
       "\n"
      ],
      "text/plain": [
       "[1] 0 1"
      ]
     },
     "metadata": {},
     "output_type": "display_data"
    }
   ],
   "source": [
    "# create dummy variable for the decrease density\n",
    "S.data$decrease = factor(S.data$TREATMENT)\n",
    "# make the values 0 or 1\n",
    "levels(S.data$decrease) = c(0,1,0)\n",
    "S.data$decrease = as.numeric(as.character(S.data$decrease))\n",
    "unique(S.data$decrease)\n",
    "\n",
    "# create dummy variable for the decrease density\n",
    "S.data$increase = factor(S.data$TREATMENT)\n",
    "# make the values 0 or 1\n",
    "levels(S.data$increase) = c(0,0,1)\n",
    "S.data$increase = as.numeric(as.character(S.data$increase))\n",
    "unique(S.data$increase)"
   ]
  },
  {
   "cell_type": "markdown",
   "metadata": {},
   "source": [
    "To make things easier to interpreat, we create a new varible from the `sizeclass`, but we will center the values to get a meaninful `intercept` ($\\alpha$). Here, we will center on `2`, what it means is that now `sizeclass 1 = -1, sizeclass 2 = 0, sizeclass 3 = 1, sizeclass 4 = 2, sizeclass 5 = 3`. So, `intercept` ($\\alpha$) of the model will be the estimated survival probability of individuals at `sizeclass 2` in the control pools ( `decrease == 0 & increase == 0`). "
   ]
  },
  {
   "cell_type": "code",
   "execution_count": 7,
   "metadata": {},
   "outputs": [
    {
     "data": {
      "text/html": [
       "<style>\n",
       ".list-inline {list-style: none; margin:0; padding: 0}\n",
       ".list-inline>li {display: inline-block}\n",
       ".list-inline>li:not(:last-child)::after {content: \"\\00b7\"; padding: 0 .5ex}\n",
       "</style>\n",
       "<ol class=list-inline><li>-1</li><li>0</li><li>1</li><li>2</li><li>3</li></ol>\n"
      ],
      "text/latex": [
       "\\begin{enumerate*}\n",
       "\\item -1\n",
       "\\item 0\n",
       "\\item 1\n",
       "\\item 2\n",
       "\\item 3\n",
       "\\end{enumerate*}\n"
      ],
      "text/markdown": [
       "1. -1\n",
       "2. 0\n",
       "3. 1\n",
       "4. 2\n",
       "5. 3\n",
       "\n",
       "\n"
      ],
      "text/plain": [
       "[1] -1  0  1  2  3"
      ]
     },
     "metadata": {},
     "output_type": "display_data"
    }
   ],
   "source": [
    "S.data$size_c = S.data$sizeclass - 2\n",
    "\n",
    "unique(S.data$size_c)"
   ]
  },
  {
   "cell_type": "markdown",
   "metadata": {},
   "source": [
    "# Step 3: Run the model\n",
    "### Estimating survial probability"
   ]
  },
  {
   "cell_type": "markdown",
   "metadata": {},
   "source": [
    "So, we are going to model `survival` as a function of sizeclass and the density treatment. First, we are going to start with the 'Rethinking R package', modeling the effects of density. So, always start by writing the model:\n",
    "\n",
    "`We are using a binomial model because the surival data is represented as 1 (survive) and 0 (death)`\n",
    "\n",
    "<center> $Surv_{i}$ $\\approx$ $binomial(1, p_{i})$, `this is the likelihood`<center>\n",
    "\n",
    "<center> logit($p_{i}$) = $alpha$ + $\\beta_{D}$*decrease$_{i}$ + $\\beta_{I}$*increase$_{i}$,  `this is the linear model`<center>\n",
    "\n",
    "<center> $\\alpha \\approx normal(0,10)$, `this is the prior for the intercept`<center>\n",
    "\n",
    "<center> $\\beta_{D} \\approx normal(0,10)$, `this is the prior for decrease`<center>\n",
    " \n",
    "<center> $\\beta_{I} \\approx normal(0,10)$, `this is the prior for increase`<center>\n",
    "\n",
    "    \n",
    "\n",
    "    "
   ]
  },
  {
   "cell_type": "code",
   "execution_count": 8,
   "metadata": {},
   "outputs": [
    {
     "name": "stderr",
     "output_type": "stream",
     "text": [
      "Removing one or more character or factor variables:\n",
      "\n",
      "Streamyear\n",
      "\n"
     ]
    },
    {
     "name": "stdout",
     "output_type": "stream",
     "text": [
      "Error in mod$fit_ptr() : \n",
      "  Exception: variable does not exist; processing stage=data initialization; variable name=year; base type=vector_d  (in 'model58c4666bc785_c6168fe8547f02eae98c1af2a423aaa9' at line 6)\n",
      "\n"
     ]
    },
    {
     "name": "stderr",
     "output_type": "stream",
     "text": [
      "failed to create the sampler; sampling not done\n",
      "\n"
     ]
    },
    {
     "name": "stdout",
     "output_type": "stream",
     "text": [
      "Stan model 'c6168fe8547f02eae98c1af2a423aaa9' does not contain samples.\n"
     ]
    },
    {
     "ename": "ERROR",
     "evalue": "Error in validObject(.Object): invalid class “ulam” object: invalid object for slot \"coef\" in class \"ulam\": got class \"NULL\", should be or extend class \"numeric\"\n",
     "output_type": "error",
     "traceback": [
      "Error in validObject(.Object): invalid class “ulam” object: invalid object for slot \"coef\" in class \"ulam\": got class \"NULL\", should be or extend class \"numeric\"\nTraceback:\n",
      "1. ulam(alist(survival ~ dbinom(1, p), logit(p) <- a + b_D * decrease + \n .     b_I * increase, a ~ dnorm(0, 10), b_D ~ dnorm(0, 10), b_I ~ \n .     dnorm(0, 10)), data = S.data, cores = 2, chains = 2, iter = 2000, \n .     warmup = 1000)",
      "2. new(\"ulam\", call = match.call(), model = model_code, stanfit = stanfit, \n .     coef = coef, vcov = varcov, data = data, start = list(start), \n .     pars = use_pars, formula = flist.orig, formula_parsed = formula_parsed)",
      "3. initialize(value, ...)",
      "4. initialize(value, ...)",
      "5. validObject(.Object)",
      "6. stop(msg, \": \", errors, domain = NA)"
     ]
    }
   ],
   "source": [
    "S.m1 = ulam(alist(\n",
    "    survival ~ dbinom( 1 , p ), # likelihood\n",
    "    logit(p) <- a + b_D*decrease + # linear model\n",
    "        b_I*increase,                      # linear model\n",
    "# piors\n",
    "    a ~ dnorm(0,10),\n",
    "    b_D ~ dnorm(0,10),\n",
    "    b_I ~ dnorm(0,10)\n",
    "), data = S.data, \n",
    "  cores= 2, chains = 2, iter=2000, warmup = 1000)"
   ]
  },
  {
   "cell_type": "code",
   "execution_count": 9,
   "metadata": {},
   "outputs": [
    {
     "data": {
      "text/html": [
       "<table>\n",
       "<caption>A precis: 3 × 6</caption>\n",
       "<thead>\n",
       "\t<tr><th></th><th scope=col>mean</th><th scope=col>sd</th><th scope=col>2.5%</th><th scope=col>97.5%</th><th scope=col>n_eff</th><th scope=col>Rhat4</th></tr>\n",
       "\t<tr><th></th><th scope=col>&lt;dbl&gt;</th><th scope=col>&lt;dbl&gt;</th><th scope=col>&lt;dbl&gt;</th><th scope=col>&lt;dbl&gt;</th><th scope=col>&lt;dbl&gt;</th><th scope=col>&lt;dbl&gt;</th></tr>\n",
       "</thead>\n",
       "<tbody>\n",
       "\t<tr><th scope=row>a</th><td> 0.9199481</td><td>0.1062958</td><td> 0.72241086</td><td> 1.14002312</td><td>564.9045</td><td>1.001908</td></tr>\n",
       "\t<tr><th scope=row>b_D</th><td> 0.3779334</td><td>0.1696712</td><td> 0.05025403</td><td> 0.71231451</td><td>760.6595</td><td>1.002910</td></tr>\n",
       "\t<tr><th scope=row>b_I</th><td>-0.3366646</td><td>0.1252487</td><td>-0.59037517</td><td>-0.09715906</td><td>586.3875</td><td>1.000844</td></tr>\n",
       "</tbody>\n",
       "</table>\n"
      ],
      "text/latex": [
       "A precis: 3 × 6\n",
       "\\begin{tabular}{r|llllll}\n",
       "  & mean & sd & 2.5\\% & 97.5\\% & n\\_eff & Rhat4\\\\\n",
       "  & <dbl> & <dbl> & <dbl> & <dbl> & <dbl> & <dbl>\\\\\n",
       "\\hline\n",
       "\ta &  0.9199481 & 0.1062958 &  0.72241086 &  1.14002312 & 564.9045 & 1.001908\\\\\n",
       "\tb\\_D &  0.3779334 & 0.1696712 &  0.05025403 &  0.71231451 & 760.6595 & 1.002910\\\\\n",
       "\tb\\_I & -0.3366646 & 0.1252487 & -0.59037517 & -0.09715906 & 586.3875 & 1.000844\\\\\n",
       "\\end{tabular}\n"
      ],
      "text/markdown": [
       "\n",
       "A precis: 3 × 6\n",
       "\n",
       "| <!--/--> | mean &lt;dbl&gt; | sd &lt;dbl&gt; | 2.5% &lt;dbl&gt; | 97.5% &lt;dbl&gt; | n_eff &lt;dbl&gt; | Rhat4 &lt;dbl&gt; |\n",
       "|---|---|---|---|---|---|---|\n",
       "| a |  0.9199481 | 0.1062958 |  0.72241086 |  1.14002312 | 564.9045 | 1.001908 |\n",
       "| b_D |  0.3779334 | 0.1696712 |  0.05025403 |  0.71231451 | 760.6595 | 1.002910 |\n",
       "| b_I | -0.3366646 | 0.1252487 | -0.59037517 | -0.09715906 | 586.3875 | 1.000844 |\n",
       "\n"
      ],
      "text/plain": [
       "    mean       sd        2.5%        97.5%       n_eff    Rhat4   \n",
       "a    0.9199481 0.1062958  0.72241086  1.14002312 564.9045 1.001908\n",
       "b_D  0.3779334 0.1696712  0.05025403  0.71231451 760.6595 1.002910\n",
       "b_I -0.3366646 0.1252487 -0.59037517 -0.09715906 586.3875 1.000844"
      ]
     },
     "metadata": {},
     "output_type": "display_data"
    }
   ],
   "source": [
    "# Look at the summary of the model\n",
    "precis(S.m1, prob = .95) # rember the values in this table are in the logistic scale"
   ]
  },
  {
   "cell_type": "code",
   "execution_count": 9,
   "metadata": {},
   "outputs": [
    {
     "data": {
      "text/html": [
       "-Inf"
      ],
      "text/latex": [
       "-Inf"
      ],
      "text/markdown": [
       "-Inf"
      ],
      "text/plain": [
       "[1] -Inf"
      ]
     },
     "metadata": {},
     "output_type": "display_data"
    }
   ],
   "source": [
    "logit(0)"
   ]
  },
  {
   "cell_type": "code",
   "execution_count": 10,
   "metadata": {},
   "outputs": [
    {
     "data": {
      "text/html": [
       "Inf"
      ],
      "text/latex": [
       "Inf"
      ],
      "text/markdown": [
       "Inf"
      ],
      "text/plain": [
       "[1] Inf"
      ]
     },
     "metadata": {},
     "output_type": "display_data"
    }
   ],
   "source": [
    "logit(1)"
   ]
  },
  {
   "cell_type": "code",
   "execution_count": 14,
   "metadata": {},
   "outputs": [
    {
     "data": {
      "text/html": [
       "0.715031530600232"
      ],
      "text/latex": [
       "0.715031530600232"
      ],
      "text/markdown": [
       "0.715031530600232"
      ],
      "text/plain": [
       "[1] 0.7150315"
      ]
     },
     "metadata": {},
     "output_type": "display_data"
    }
   ],
   "source": [
    "inv_logit(0.9199481) "
   ]
  },
  {
   "cell_type": "code",
   "execution_count": 13,
   "metadata": {},
   "outputs": [
    {
     "data": {
      "text/html": [
       "0.785478227064577"
      ],
      "text/latex": [
       "0.785478227064577"
      ],
      "text/markdown": [
       "0.785478227064577"
      ],
      "text/plain": [
       "[1] 0.7854782"
      ]
     },
     "metadata": {},
     "output_type": "display_data"
    }
   ],
   "source": [
    "inv_logit(0.9199481 + 0.3779334)"
   ]
  },
  {
   "cell_type": "markdown",
   "metadata": {},
   "source": [
    "### Working with posteriors\n",
    "\n",
    "One of the biggest advantages of using Bayesian model is the use of the posterior samples, which contains all the information from the model parameters and allow you to test hypothesis and simulate predictions.  \n"
   ]
  },
  {
   "cell_type": "code",
   "execution_count": 10,
   "metadata": {},
   "outputs": [],
   "source": [
    "# so, let's get the posterior samples\n",
    "post_S.m1 = extract.samples(S.m1)"
   ]
  },
  {
   "cell_type": "markdown",
   "metadata": {},
   "source": [
    "Heads up, remember that the parameters estimated in this model are in the logit scale, it is a function of values that range between $]-\\infty, +\\infty[$. Interestingly, we can convert those values to values between $0$ and $1$ with the *inverse logit* function. You can learn more about it [here](https://en.wikipedia.org/wiki/Logit)."
   ]
  },
  {
   "cell_type": "code",
   "execution_count": 11,
   "metadata": {},
   "outputs": [
    {
     "data": {
      "text/html": [
       "0.5"
      ],
      "text/latex": [
       "0.5"
      ],
      "text/markdown": [
       "0.5"
      ],
      "text/plain": [
       "[1] 0.5"
      ]
     },
     "metadata": {},
     "output_type": "display_data"
    },
    {
     "data": {
      "text/html": [
       "0.622459331201855"
      ],
      "text/latex": [
       "0.622459331201855"
      ],
      "text/markdown": [
       "0.622459331201855"
      ],
      "text/plain": [
       "[1] 0.6224593"
      ]
     },
     "metadata": {},
     "output_type": "display_data"
    },
    {
     "data": {
      "text/html": [
       "0.710949502625004"
      ],
      "text/latex": [
       "0.710949502625004"
      ],
      "text/markdown": [
       "0.710949502625004"
      ],
      "text/plain": [
       "[1] 0.7109495"
      ]
     },
     "metadata": {},
     "output_type": "display_data"
    },
    {
     "data": {
      "text/html": [
       "0.952574126822433"
      ],
      "text/latex": [
       "0.952574126822433"
      ],
      "text/markdown": [
       "0.952574126822433"
      ],
      "text/plain": [
       "[1] 0.9525741"
      ]
     },
     "metadata": {},
     "output_type": "display_data"
    }
   ],
   "source": [
    "# To convert this values to probabilities, we should inverst logit the values\n",
    "inv_logit(0) # 50%\n",
    "inv_logit(0.5) # 62%\n",
    "inv_logit(0.9) # 71%\n",
    "inv_logit(3) # 95"
   ]
  },
  {
   "cell_type": "markdown",
   "metadata": {},
   "source": [
    "### Estimating the survival probability of each treatment"
   ]
  },
  {
   "cell_type": "code",
   "execution_count": 12,
   "metadata": {},
   "outputs": [
    {
     "data": {
      "text/html": [
       "<table>\n",
       "<caption>A precis: 6 × 5</caption>\n",
       "<thead>\n",
       "\t<tr><th></th><th scope=col>mean</th><th scope=col>sd</th><th scope=col>5.5%</th><th scope=col>94.5%</th><th scope=col>histogram</th></tr>\n",
       "\t<tr><th></th><th scope=col>&lt;dbl&gt;</th><th scope=col>&lt;dbl&gt;</th><th scope=col>&lt;dbl&gt;</th><th scope=col>&lt;dbl&gt;</th><th scope=col>&lt;chr&gt;</th></tr>\n",
       "</thead>\n",
       "<tbody>\n",
       "\t<tr><th scope=row>a</th><td> 0.9199481</td><td>0.10629575</td><td> 0.7565364</td><td> 1.0961153</td><td>▁▁▂▇▇▃▁▁     </td></tr>\n",
       "\t<tr><th scope=row>b_D</th><td> 0.3779334</td><td>0.16967121</td><td> 0.1111949</td><td> 0.6528073</td><td>▁▁▁▃▇▇▇▅▂▁▁  </td></tr>\n",
       "\t<tr><th scope=row>b_I</th><td>-0.3366646</td><td>0.12524866</td><td>-0.5379873</td><td>-0.1414948</td><td>▁▁▂▅▇▇▂▁▁▁   </td></tr>\n",
       "\t<tr><th scope=row>S_control</th><td> 0.7145372</td><td>0.02156167</td><td> 0.6806013</td><td> 0.7495315</td><td>▁▁▁▃▇▅▂▁▁    </td></tr>\n",
       "\t<tr><th scope=row>S_decrease</th><td> 0.7846225</td><td>0.02250451</td><td> 0.7479659</td><td> 0.8193963</td><td>▁▁▂▇▇▅▁▁     </td></tr>\n",
       "\t<tr><th scope=row>S_increase</th><td> 0.6416745</td><td>0.01549022</td><td> 0.6168549</td><td> 0.6655903</td><td>▁▁▁▂▃▇▇▅▂▁▁▁▁</td></tr>\n",
       "</tbody>\n",
       "</table>\n"
      ],
      "text/latex": [
       "A precis: 6 × 5\n",
       "\\begin{tabular}{r|lllll}\n",
       "  & mean & sd & 5.5\\% & 94.5\\% & histogram\\\\\n",
       "  & <dbl> & <dbl> & <dbl> & <dbl> & <chr>\\\\\n",
       "\\hline\n",
       "\ta &  0.9199481 & 0.10629575 &  0.7565364 &  1.0961153 & ▁▁▂▇▇▃▁▁     \\\\\n",
       "\tb\\_D &  0.3779334 & 0.16967121 &  0.1111949 &  0.6528073 & ▁▁▁▃▇▇▇▅▂▁▁  \\\\\n",
       "\tb\\_I & -0.3366646 & 0.12524866 & -0.5379873 & -0.1414948 & ▁▁▂▅▇▇▂▁▁▁   \\\\\n",
       "\tS\\_control &  0.7145372 & 0.02156167 &  0.6806013 &  0.7495315 & ▁▁▁▃▇▅▂▁▁    \\\\\n",
       "\tS\\_decrease &  0.7846225 & 0.02250451 &  0.7479659 &  0.8193963 & ▁▁▂▇▇▅▁▁     \\\\\n",
       "\tS\\_increase &  0.6416745 & 0.01549022 &  0.6168549 &  0.6655903 & ▁▁▁▂▃▇▇▅▂▁▁▁▁\\\\\n",
       "\\end{tabular}\n"
      ],
      "text/markdown": [
       "\n",
       "A precis: 6 × 5\n",
       "\n",
       "| <!--/--> | mean &lt;dbl&gt; | sd &lt;dbl&gt; | 5.5% &lt;dbl&gt; | 94.5% &lt;dbl&gt; | histogram &lt;chr&gt; |\n",
       "|---|---|---|---|---|---|\n",
       "| a |  0.9199481 | 0.10629575 |  0.7565364 |  1.0961153 | ▁▁▂▇▇▃▁▁      |\n",
       "| b_D |  0.3779334 | 0.16967121 |  0.1111949 |  0.6528073 | ▁▁▁▃▇▇▇▅▂▁▁   |\n",
       "| b_I | -0.3366646 | 0.12524866 | -0.5379873 | -0.1414948 | ▁▁▂▅▇▇▂▁▁▁    |\n",
       "| S_control |  0.7145372 | 0.02156167 |  0.6806013 |  0.7495315 | ▁▁▁▃▇▅▂▁▁     |\n",
       "| S_decrease |  0.7846225 | 0.02250451 |  0.7479659 |  0.8193963 | ▁▁▂▇▇▅▁▁      |\n",
       "| S_increase |  0.6416745 | 0.01549022 |  0.6168549 |  0.6655903 | ▁▁▁▂▃▇▇▅▂▁▁▁▁ |\n",
       "\n"
      ],
      "text/plain": [
       "           mean       sd         5.5%       94.5%      histogram    \n",
       "a           0.9199481 0.10629575  0.7565364  1.0961153 ▁▁▂▇▇▃▁▁     \n",
       "b_D         0.3779334 0.16967121  0.1111949  0.6528073 ▁▁▁▃▇▇▇▅▂▁▁  \n",
       "b_I        -0.3366646 0.12524866 -0.5379873 -0.1414948 ▁▁▂▅▇▇▂▁▁▁   \n",
       "S_control   0.7145372 0.02156167  0.6806013  0.7495315 ▁▁▁▃▇▅▂▁▁    \n",
       "S_decrease  0.7846225 0.02250451  0.7479659  0.8193963 ▁▁▂▇▇▅▁▁     \n",
       "S_increase  0.6416745 0.01549022  0.6168549  0.6655903 ▁▁▁▂▃▇▇▅▂▁▁▁▁"
      ]
     },
     "metadata": {},
     "output_type": "display_data"
    }
   ],
   "source": [
    "post_S.m1$S_control = inv_logit(post_S.m1$a) \n",
    "post_S.m1$S_decrease = inv_logit(post_S.m1$a + post_S.m1$b_D ) \n",
    "post_S.m1$S_increase = inv_logit(post_S.m1$a + post_S.m1$b_I ) \n",
    "\n",
    "# see the results\n",
    "precis(post_S.m1)"
   ]
  },
  {
   "cell_type": "markdown",
   "metadata": {},
   "source": [
    "### Testing hypothesis\n",
    "\n",
    "Testing hypothesis is very easy. For instance:\n",
    "If guppy populations in low predation habitats are density regulated, then\n",
    "$H_{1}$= increasing fish density should decrease individual survival probability. So, we use the posterior samples to test this hypothesis.\n"
   ]
  },
  {
   "cell_type": "code",
   "execution_count": 13,
   "metadata": {},
   "outputs": [
    {
     "data": {
      "text/html": [
       "<table>\n",
       "<caption>A precis: 7 × 5</caption>\n",
       "<thead>\n",
       "\t<tr><th></th><th scope=col>mean</th><th scope=col>sd</th><th scope=col>5.5%</th><th scope=col>94.5%</th><th scope=col>histogram</th></tr>\n",
       "\t<tr><th></th><th scope=col>&lt;dbl&gt;</th><th scope=col>&lt;dbl&gt;</th><th scope=col>&lt;dbl&gt;</th><th scope=col>&lt;dbl&gt;</th><th scope=col>&lt;chr&gt;</th></tr>\n",
       "</thead>\n",
       "<tbody>\n",
       "\t<tr><th scope=row>a</th><td> 0.91994806</td><td>0.10629575</td><td> 0.7565364</td><td> 1.09611533</td><td>▁▁▂▇▇▃▁▁     </td></tr>\n",
       "\t<tr><th scope=row>b_D</th><td> 0.37793343</td><td>0.16967121</td><td> 0.1111949</td><td> 0.65280725</td><td>▁▁▁▃▇▇▇▅▂▁▁  </td></tr>\n",
       "\t<tr><th scope=row>b_I</th><td>-0.33666458</td><td>0.12524866</td><td>-0.5379873</td><td>-0.14149476</td><td>▁▁▂▅▇▇▂▁▁▁   </td></tr>\n",
       "\t<tr><th scope=row>S_control</th><td> 0.71453722</td><td>0.02156167</td><td> 0.6806013</td><td> 0.74953153</td><td>▁▁▁▃▇▅▂▁▁    </td></tr>\n",
       "\t<tr><th scope=row>S_decrease</th><td> 0.78462250</td><td>0.02250451</td><td> 0.7479659</td><td> 0.81939635</td><td>▁▁▂▇▇▅▁▁     </td></tr>\n",
       "\t<tr><th scope=row>S_increase</th><td> 0.64167446</td><td>0.01549022</td><td> 0.6168549</td><td> 0.66559034</td><td>▁▁▁▂▃▇▇▅▂▁▁▁▁</td></tr>\n",
       "\t<tr><th scope=row>S_IvsC</th><td>-0.07286276</td><td>0.02642603</td><td>-0.1145711</td><td>-0.03089344</td><td>▁▁▂▇▇▅▂▁▁▁   </td></tr>\n",
       "</tbody>\n",
       "</table>\n"
      ],
      "text/latex": [
       "A precis: 7 × 5\n",
       "\\begin{tabular}{r|lllll}\n",
       "  & mean & sd & 5.5\\% & 94.5\\% & histogram\\\\\n",
       "  & <dbl> & <dbl> & <dbl> & <dbl> & <chr>\\\\\n",
       "\\hline\n",
       "\ta &  0.91994806 & 0.10629575 &  0.7565364 &  1.09611533 & ▁▁▂▇▇▃▁▁     \\\\\n",
       "\tb\\_D &  0.37793343 & 0.16967121 &  0.1111949 &  0.65280725 & ▁▁▁▃▇▇▇▅▂▁▁  \\\\\n",
       "\tb\\_I & -0.33666458 & 0.12524866 & -0.5379873 & -0.14149476 & ▁▁▂▅▇▇▂▁▁▁   \\\\\n",
       "\tS\\_control &  0.71453722 & 0.02156167 &  0.6806013 &  0.74953153 & ▁▁▁▃▇▅▂▁▁    \\\\\n",
       "\tS\\_decrease &  0.78462250 & 0.02250451 &  0.7479659 &  0.81939635 & ▁▁▂▇▇▅▁▁     \\\\\n",
       "\tS\\_increase &  0.64167446 & 0.01549022 &  0.6168549 &  0.66559034 & ▁▁▁▂▃▇▇▅▂▁▁▁▁\\\\\n",
       "\tS\\_IvsC & -0.07286276 & 0.02642603 & -0.1145711 & -0.03089344 & ▁▁▂▇▇▅▂▁▁▁   \\\\\n",
       "\\end{tabular}\n"
      ],
      "text/markdown": [
       "\n",
       "A precis: 7 × 5\n",
       "\n",
       "| <!--/--> | mean &lt;dbl&gt; | sd &lt;dbl&gt; | 5.5% &lt;dbl&gt; | 94.5% &lt;dbl&gt; | histogram &lt;chr&gt; |\n",
       "|---|---|---|---|---|---|\n",
       "| a |  0.91994806 | 0.10629575 |  0.7565364 |  1.09611533 | ▁▁▂▇▇▃▁▁      |\n",
       "| b_D |  0.37793343 | 0.16967121 |  0.1111949 |  0.65280725 | ▁▁▁▃▇▇▇▅▂▁▁   |\n",
       "| b_I | -0.33666458 | 0.12524866 | -0.5379873 | -0.14149476 | ▁▁▂▅▇▇▂▁▁▁    |\n",
       "| S_control |  0.71453722 | 0.02156167 |  0.6806013 |  0.74953153 | ▁▁▁▃▇▅▂▁▁     |\n",
       "| S_decrease |  0.78462250 | 0.02250451 |  0.7479659 |  0.81939635 | ▁▁▂▇▇▅▁▁      |\n",
       "| S_increase |  0.64167446 | 0.01549022 |  0.6168549 |  0.66559034 | ▁▁▁▂▃▇▇▅▂▁▁▁▁ |\n",
       "| S_IvsC | -0.07286276 | 0.02642603 | -0.1145711 | -0.03089344 | ▁▁▂▇▇▅▂▁▁▁    |\n",
       "\n"
      ],
      "text/plain": [
       "           mean        sd         5.5%       94.5%       histogram    \n",
       "a           0.91994806 0.10629575  0.7565364  1.09611533 ▁▁▂▇▇▃▁▁     \n",
       "b_D         0.37793343 0.16967121  0.1111949  0.65280725 ▁▁▁▃▇▇▇▅▂▁▁  \n",
       "b_I        -0.33666458 0.12524866 -0.5379873 -0.14149476 ▁▁▂▅▇▇▂▁▁▁   \n",
       "S_control   0.71453722 0.02156167  0.6806013  0.74953153 ▁▁▁▃▇▅▂▁▁    \n",
       "S_decrease  0.78462250 0.02250451  0.7479659  0.81939635 ▁▁▂▇▇▅▁▁     \n",
       "S_increase  0.64167446 0.01549022  0.6168549  0.66559034 ▁▁▁▂▃▇▇▅▂▁▁▁▁\n",
       "S_IvsC     -0.07286276 0.02642603 -0.1145711 -0.03089344 ▁▁▂▇▇▅▂▁▁▁   "
      ]
     },
     "metadata": {},
     "output_type": "display_data"
    }
   ],
   "source": [
    "post_S.m1$S_IvsC  = post_S.m1$S_increase - post_S.m1$S_control \n",
    "precis(post_S.m1)"
   ]
  },
  {
   "cell_type": "markdown",
   "metadata": {},
   "source": [
    "The test suggest that increasing density reduces survival by approximatly 7.4% (2.9 - 11.6%, CI 95%)"
   ]
  },
  {
   "cell_type": "markdown",
   "metadata": {},
   "source": [
    "### Additionally, we can test the probability of increasing density results in decreasing survival probability.\n",
    "\n",
    "It is basically counting. You only have to count how many posterior samples of the `S_IvsC < 0` and divided by the total number of samples. \n"
   ]
  },
  {
   "cell_type": "code",
   "execution_count": 14,
   "metadata": {},
   "outputs": [
    {
     "data": {
      "text/html": [
       "99.7"
      ],
      "text/latex": [
       "99.7"
      ],
      "text/markdown": [
       "99.7"
      ],
      "text/plain": [
       "[1] 99.7"
      ]
     },
     "metadata": {},
     "output_type": "display_data"
    }
   ],
   "source": [
    "p = length(which(post_S.m1$S_IvsC<0))\n",
    "N = length(post_S.m1$S_IvsC)\n",
    "(p/N) * 100"
   ]
  },
  {
   "cell_type": "markdown",
   "metadata": {},
   "source": [
    "Increasing fish density decreases guppy survival probability with a 99.75% certainty"
   ]
  },
  {
   "cell_type": "markdown",
   "metadata": {},
   "source": [
    "## Improve the model\n",
    "\n",
    "Now, this experiment the data is not independent. It is replycated several times and it is nested within rivers, so we have to add random effects. Additoinaly, we also want to introduce the interaction of density with size class."
   ]
  },
  {
   "cell_type": "markdown",
   "metadata": {},
   "source": [
    "Let's write the new model:\n",
    "\n",
    "<center> $Surv_{i}$ $\\approx$ $binomial(1, p_{i})$, `this is the likelihood` <center>\n",
    "\n",
    "<center>logit($p_{i}$) = $alpha$ + $\\beta_{D}$*decrease$_{i}$ + $\\beta_{I}$*increase$_{i}$  + size_c$_{i}$ * ($\\beta_{S}$    + $\\beta_{SxD}$ * decrease$_{i}$ + $\\beta_{SxI}$*increase$_{i}$),  `this is the linear model`<center>\n",
    "\n",
    "<center>$\\alpha \\approx normal(0,10)$, `this is the prior for the intercept`<center>\n",
    "\n",
    "<center>$\\beta_{S} \\approx normal(0,10)$, `this is the prior for sizeclass`<center>\n",
    "\n",
    "<center>$\\beta_{D} \\approx normal(0,10)$, `this is the prior for decrease`<center>\n",
    " \n",
    "<center>$\\beta_{I} \\approx normal(0,10)$, `this is the prior for increase`<center>\n",
    "\n",
    "<center>$\\beta_{SxD} \\approx normal(0,10)$, `this is the prior for interaction`<center>\n",
    "\n",
    "<center>$\\beta_{SxI} \\approx normal(0,10)$, `this is the prior for interaction`<center>\n",
    "\n",
    "<center>$\\alpha$_S$_{Stream_{i}}$ ~ normal(0,$\\sigma_{Stream})$, `this is the prior for the randome effect stream`<center>\n",
    "\n",
    "<center>$\\sigma_{Stream} \\approx cauchy(0,2)$, `this is the prior for the random error`<center>\n",
    "\n",
    "<center>$\\alpha$_R$_{replicate_{i}}$ ~ normal(0,$\\sigma_{replicate})$, `this is the prior for the randome effect replicate`<center>\n",
    "\n",
    "<center>$\\sigma_{replicate} \\approx cauchy(0,2)$, `this is the prior for the random error`<center>\n",
    "\n",
    "\n",
    "\n"
   ]
  },
  {
   "cell_type": "code",
   "execution_count": 15,
   "metadata": {},
   "outputs": [
    {
     "name": "stderr",
     "output_type": "stream",
     "text": [
      "Warning message in coerce_index(data[[group_var]]):\n",
      "“NAs introduced by coercion”\n"
     ]
    },
    {
     "name": "stdout",
     "output_type": "stream",
     "text": [
      "alist(\n",
      "    survival ~ dbinom( 1 , p ),\n",
      "    logit(p) <- Intercept +\n",
      "        b_size_c*size_c +\n",
      "        b_decrease*decrease +\n",
      "        b_increase*increase +\n",
      "        b_size_c_X_decrease*size_c_X_decrease +\n",
      "        b_size_c_X_increase*size_c_X_increase +\n",
      "        v_replicate_Intercept[replicate] +\n",
      "        v_Stream_Intercept[Stream],\n",
      "    Intercept ~ dnorm(0,10),\n",
      "    b_size_c ~ dnorm(0,10),\n",
      "    b_decrease ~ dnorm(0,10),\n",
      "    b_increase ~ dnorm(0,10),\n",
      "    b_size_c_X_decrease ~ dnorm(0,10),\n",
      "    b_size_c_X_increase ~ dnorm(0,10),\n",
      "    v_replicate_Intercept[replicate] ~ dnorm(0,sigma_replicate),\n",
      "    sigma_replicate ~ dcauchy(0,2),\n",
      "    v_Stream_Intercept[Stream] ~ dnorm(0,sigma_Stream),\n",
      "    sigma_Stream ~ dcauchy(0,2)\n",
      ")\n"
     ]
    }
   ],
   "source": [
    "# we can use the glimmer function to get model.\n",
    "\n",
    "glimmer(survival ~ size_c*decrease + size_c*increase + (1|replicate) + (1|Stream) , family = binomial(), data = S.data)"
   ]
  },
  {
   "cell_type": "code",
   "execution_count": 16,
   "metadata": {},
   "outputs": [],
   "source": [
    "S.data$Stream = as.factor(S.data$Stream)\n",
    "levels(S.data$Stream) <- 1:length(levels(S.data$Stream)) # convert the streams to numbers to run the model."
   ]
  },
  {
   "cell_type": "code",
   "execution_count": 17,
   "metadata": {},
   "outputs": [],
   "source": [
    "S.m2 = ulam(\n",
    "alist(\n",
    "    survival ~ dbinom( 1 , p ),\n",
    "    logit(p) <- a +\n",
    "        b_S*size_c +\n",
    "        b_D*decrease +\n",
    "        b_I*increase +\n",
    "        b_SxD*size_c*decrease +\n",
    "        b_SxI*size_c*increase +\n",
    "        v_replicate_Intercept[replicate] +\n",
    "        v_Stream_Intercept[Stream],\n",
    "    a ~ dnorm(0,10),\n",
    "    b_S ~ dnorm(0,10),\n",
    "    b_D ~ dnorm(0,10),\n",
    "    b_I ~ dnorm(0,10),\n",
    "    b_SxD ~ dnorm(0,10),\n",
    "    b_SxI ~ dnorm(0,10),\n",
    "    v_replicate_Intercept[replicate] ~ dnorm(0,sigma_replicate),\n",
    "    sigma_replicate ~ dcauchy(0,2),\n",
    "    v_Stream_Intercept[Stream] ~ dnorm(0,sigma_Stream),\n",
    "    sigma_Stream ~ dcauchy(0,2)\n",
    "), data = S.data, \n",
    "  cores= 4, chains = 4, iter=2000, warmup = 1000\n",
    ") "
   ]
  },
  {
   "cell_type": "code",
   "execution_count": 18,
   "metadata": {},
   "outputs": [
    {
     "name": "stderr",
     "output_type": "stream",
     "text": [
      "7 vector or matrix parameters hidden. Use depth=2 to show them.\n",
      "\n"
     ]
    },
    {
     "data": {
      "text/html": [
       "<table>\n",
       "<caption>A precis: 8 × 6</caption>\n",
       "<thead>\n",
       "\t<tr><th></th><th scope=col>mean</th><th scope=col>sd</th><th scope=col>2.5%</th><th scope=col>97.5%</th><th scope=col>n_eff</th><th scope=col>Rhat4</th></tr>\n",
       "\t<tr><th></th><th scope=col>&lt;dbl&gt;</th><th scope=col>&lt;dbl&gt;</th><th scope=col>&lt;dbl&gt;</th><th scope=col>&lt;dbl&gt;</th><th scope=col>&lt;dbl&gt;</th><th scope=col>&lt;dbl&gt;</th></tr>\n",
       "</thead>\n",
       "<tbody>\n",
       "\t<tr><th scope=row>a</th><td> 0.9552685</td><td>1.26998847</td><td>-1.5172405</td><td> 3.65587198</td><td> 747.0874</td><td>1.005543</td></tr>\n",
       "\t<tr><th scope=row>b_S</th><td> 0.3409654</td><td>0.09673032</td><td> 0.1532594</td><td> 0.52593384</td><td>1468.7807</td><td>1.001189</td></tr>\n",
       "\t<tr><th scope=row>b_D</th><td> 0.5851823</td><td>0.18804126</td><td> 0.2208289</td><td> 0.96155606</td><td>2292.4838</td><td>1.001547</td></tr>\n",
       "\t<tr><th scope=row>b_I</th><td>-0.1763107</td><td>0.13930946</td><td>-0.4450764</td><td> 0.10767641</td><td>2142.1840</td><td>1.000705</td></tr>\n",
       "\t<tr><th scope=row>b_SxD</th><td>-0.6224792</td><td>0.14585462</td><td>-0.9054222</td><td>-0.33965876</td><td>1746.4615</td><td>1.001560</td></tr>\n",
       "\t<tr><th scope=row>b_SxI</th><td>-0.2589119</td><td>0.11095655</td><td>-0.4723207</td><td>-0.04488091</td><td>1521.0320</td><td>1.001697</td></tr>\n",
       "\t<tr><th scope=row>sigma_replicate</th><td> 1.3957534</td><td>1.52812409</td><td> 0.2171571</td><td> 5.41005884</td><td> 785.4921</td><td>1.002968</td></tr>\n",
       "\t<tr><th scope=row>sigma_Stream</th><td> 0.4895213</td><td>0.28432718</td><td> 0.1808819</td><td> 1.24578185</td><td>1375.9374</td><td>1.000218</td></tr>\n",
       "</tbody>\n",
       "</table>\n"
      ],
      "text/latex": [
       "A precis: 8 × 6\n",
       "\\begin{tabular}{r|llllll}\n",
       "  & mean & sd & 2.5\\% & 97.5\\% & n\\_eff & Rhat4\\\\\n",
       "  & <dbl> & <dbl> & <dbl> & <dbl> & <dbl> & <dbl>\\\\\n",
       "\\hline\n",
       "\ta &  0.9552685 & 1.26998847 & -1.5172405 &  3.65587198 &  747.0874 & 1.005543\\\\\n",
       "\tb\\_S &  0.3409654 & 0.09673032 &  0.1532594 &  0.52593384 & 1468.7807 & 1.001189\\\\\n",
       "\tb\\_D &  0.5851823 & 0.18804126 &  0.2208289 &  0.96155606 & 2292.4838 & 1.001547\\\\\n",
       "\tb\\_I & -0.1763107 & 0.13930946 & -0.4450764 &  0.10767641 & 2142.1840 & 1.000705\\\\\n",
       "\tb\\_SxD & -0.6224792 & 0.14585462 & -0.9054222 & -0.33965876 & 1746.4615 & 1.001560\\\\\n",
       "\tb\\_SxI & -0.2589119 & 0.11095655 & -0.4723207 & -0.04488091 & 1521.0320 & 1.001697\\\\\n",
       "\tsigma\\_replicate &  1.3957534 & 1.52812409 &  0.2171571 &  5.41005884 &  785.4921 & 1.002968\\\\\n",
       "\tsigma\\_Stream &  0.4895213 & 0.28432718 &  0.1808819 &  1.24578185 & 1375.9374 & 1.000218\\\\\n",
       "\\end{tabular}\n"
      ],
      "text/markdown": [
       "\n",
       "A precis: 8 × 6\n",
       "\n",
       "| <!--/--> | mean &lt;dbl&gt; | sd &lt;dbl&gt; | 2.5% &lt;dbl&gt; | 97.5% &lt;dbl&gt; | n_eff &lt;dbl&gt; | Rhat4 &lt;dbl&gt; |\n",
       "|---|---|---|---|---|---|---|\n",
       "| a |  0.9552685 | 1.26998847 | -1.5172405 |  3.65587198 |  747.0874 | 1.005543 |\n",
       "| b_S |  0.3409654 | 0.09673032 |  0.1532594 |  0.52593384 | 1468.7807 | 1.001189 |\n",
       "| b_D |  0.5851823 | 0.18804126 |  0.2208289 |  0.96155606 | 2292.4838 | 1.001547 |\n",
       "| b_I | -0.1763107 | 0.13930946 | -0.4450764 |  0.10767641 | 2142.1840 | 1.000705 |\n",
       "| b_SxD | -0.6224792 | 0.14585462 | -0.9054222 | -0.33965876 | 1746.4615 | 1.001560 |\n",
       "| b_SxI | -0.2589119 | 0.11095655 | -0.4723207 | -0.04488091 | 1521.0320 | 1.001697 |\n",
       "| sigma_replicate |  1.3957534 | 1.52812409 |  0.2171571 |  5.41005884 |  785.4921 | 1.002968 |\n",
       "| sigma_Stream |  0.4895213 | 0.28432718 |  0.1808819 |  1.24578185 | 1375.9374 | 1.000218 |\n",
       "\n"
      ],
      "text/plain": [
       "                mean       sd         2.5%       97.5%       n_eff     Rhat4   \n",
       "a                0.9552685 1.26998847 -1.5172405  3.65587198  747.0874 1.005543\n",
       "b_S              0.3409654 0.09673032  0.1532594  0.52593384 1468.7807 1.001189\n",
       "b_D              0.5851823 0.18804126  0.2208289  0.96155606 2292.4838 1.001547\n",
       "b_I             -0.1763107 0.13930946 -0.4450764  0.10767641 2142.1840 1.000705\n",
       "b_SxD           -0.6224792 0.14585462 -0.9054222 -0.33965876 1746.4615 1.001560\n",
       "b_SxI           -0.2589119 0.11095655 -0.4723207 -0.04488091 1521.0320 1.001697\n",
       "sigma_replicate  1.3957534 1.52812409  0.2171571  5.41005884  785.4921 1.002968\n",
       "sigma_Stream     0.4895213 0.28432718  0.1808819  1.24578185 1375.9374 1.000218"
      ]
     },
     "metadata": {},
     "output_type": "display_data"
    }
   ],
   "source": [
    "# Look at the summary of the model\n",
    "precis(S.m2, prob = .95) # rember the values in this table are in the logistic scale"
   ]
  },
  {
   "cell_type": "code",
   "execution_count": 19,
   "metadata": {},
   "outputs": [
    {
     "name": "stderr",
     "output_type": "stream",
     "text": [
      "7 vector or matrix parameters hidden. Use depth=2 to show them.\n",
      "\n"
     ]
    },
    {
     "data": {
      "text/html": [
       "<table>\n",
       "<caption>A precis: 11 × 5</caption>\n",
       "<thead>\n",
       "\t<tr><th></th><th scope=col>mean</th><th scope=col>sd</th><th scope=col>2.5%</th><th scope=col>97.5%</th><th scope=col>histogram</th></tr>\n",
       "\t<tr><th></th><th scope=col>&lt;dbl&gt;</th><th scope=col>&lt;dbl&gt;</th><th scope=col>&lt;dbl&gt;</th><th scope=col>&lt;dbl&gt;</th><th scope=col>&lt;chr&gt;</th></tr>\n",
       "</thead>\n",
       "<tbody>\n",
       "\t<tr><th scope=row>a</th><td> 0.9552685</td><td>1.26998847</td><td>-1.5172405</td><td> 3.65587198</td><td>▁▁▁▁▁▁▇▁▁▁▁▁   </td></tr>\n",
       "\t<tr><th scope=row>b_S</th><td> 0.3409654</td><td>0.09673032</td><td> 0.1532594</td><td> 0.52593384</td><td>▁▁▅▇▃▁▁▁       </td></tr>\n",
       "\t<tr><th scope=row>b_D</th><td> 0.5851823</td><td>0.18804126</td><td> 0.2208289</td><td> 0.96155606</td><td>▁▁▁▂▃▅▇▇▅▂▁▁▁▁ </td></tr>\n",
       "\t<tr><th scope=row>b_I</th><td>-0.1763107</td><td>0.13930946</td><td>-0.4450764</td><td> 0.10767641</td><td>▁▁▁▃▇▇▅▂▁▁▁    </td></tr>\n",
       "\t<tr><th scope=row>b_SxD</th><td>-0.6224792</td><td>0.14585462</td><td>-0.9054222</td><td>-0.33965876</td><td>▁▁▁▂▅▇▇▃▁▁▁    </td></tr>\n",
       "\t<tr><th scope=row>b_SxI</th><td>-0.2589119</td><td>0.11095655</td><td>-0.4723207</td><td>-0.04488091</td><td>▁▁▁▂▅▇▅▂▁▁     </td></tr>\n",
       "\t<tr><th scope=row>sigma_replicate</th><td> 1.3957534</td><td>1.52812409</td><td> 0.2171571</td><td> 5.41005884</td><td>▇▁▁▁▁▁▁▁▁▁▁▁   </td></tr>\n",
       "\t<tr><th scope=row>sigma_Stream</th><td> 0.4895213</td><td>0.28432718</td><td> 0.1808819</td><td> 1.24578185</td><td>▁▇▅▂▁▁▁▁▁▁▁▁▁▁▁</td></tr>\n",
       "\t<tr><th scope=row>S_control</th><td> 0.6907483</td><td>0.18406032</td><td> 0.1798686</td><td> 0.97481187</td><td>▁▁▁▁▁▂▅▇▃▂     </td></tr>\n",
       "\t<tr><th scope=row>S_decrease</th><td> 0.7851183</td><td>0.16480110</td><td> 0.2831110</td><td> 0.98485854</td><td>▁▁▁▁▁▁▁▃▇▃     </td></tr>\n",
       "\t<tr><th scope=row>S_increase</th><td> 0.6584168</td><td>0.18769224</td><td> 0.1572406</td><td> 0.96928658</td><td>▁▁▁▁▂▃▇▇▃▂     </td></tr>\n",
       "</tbody>\n",
       "</table>\n"
      ],
      "text/latex": [
       "A precis: 11 × 5\n",
       "\\begin{tabular}{r|lllll}\n",
       "  & mean & sd & 2.5\\% & 97.5\\% & histogram\\\\\n",
       "  & <dbl> & <dbl> & <dbl> & <dbl> & <chr>\\\\\n",
       "\\hline\n",
       "\ta &  0.9552685 & 1.26998847 & -1.5172405 &  3.65587198 & ▁▁▁▁▁▁▇▁▁▁▁▁   \\\\\n",
       "\tb\\_S &  0.3409654 & 0.09673032 &  0.1532594 &  0.52593384 & ▁▁▅▇▃▁▁▁       \\\\\n",
       "\tb\\_D &  0.5851823 & 0.18804126 &  0.2208289 &  0.96155606 & ▁▁▁▂▃▅▇▇▅▂▁▁▁▁ \\\\\n",
       "\tb\\_I & -0.1763107 & 0.13930946 & -0.4450764 &  0.10767641 & ▁▁▁▃▇▇▅▂▁▁▁    \\\\\n",
       "\tb\\_SxD & -0.6224792 & 0.14585462 & -0.9054222 & -0.33965876 & ▁▁▁▂▅▇▇▃▁▁▁    \\\\\n",
       "\tb\\_SxI & -0.2589119 & 0.11095655 & -0.4723207 & -0.04488091 & ▁▁▁▂▅▇▅▂▁▁     \\\\\n",
       "\tsigma\\_replicate &  1.3957534 & 1.52812409 &  0.2171571 &  5.41005884 & ▇▁▁▁▁▁▁▁▁▁▁▁   \\\\\n",
       "\tsigma\\_Stream &  0.4895213 & 0.28432718 &  0.1808819 &  1.24578185 & ▁▇▅▂▁▁▁▁▁▁▁▁▁▁▁\\\\\n",
       "\tS\\_control &  0.6907483 & 0.18406032 &  0.1798686 &  0.97481187 & ▁▁▁▁▁▂▅▇▃▂     \\\\\n",
       "\tS\\_decrease &  0.7851183 & 0.16480110 &  0.2831110 &  0.98485854 & ▁▁▁▁▁▁▁▃▇▃     \\\\\n",
       "\tS\\_increase &  0.6584168 & 0.18769224 &  0.1572406 &  0.96928658 & ▁▁▁▁▂▃▇▇▃▂     \\\\\n",
       "\\end{tabular}\n"
      ],
      "text/markdown": [
       "\n",
       "A precis: 11 × 5\n",
       "\n",
       "| <!--/--> | mean &lt;dbl&gt; | sd &lt;dbl&gt; | 2.5% &lt;dbl&gt; | 97.5% &lt;dbl&gt; | histogram &lt;chr&gt; |\n",
       "|---|---|---|---|---|---|\n",
       "| a |  0.9552685 | 1.26998847 | -1.5172405 |  3.65587198 | ▁▁▁▁▁▁▇▁▁▁▁▁    |\n",
       "| b_S |  0.3409654 | 0.09673032 |  0.1532594 |  0.52593384 | ▁▁▅▇▃▁▁▁        |\n",
       "| b_D |  0.5851823 | 0.18804126 |  0.2208289 |  0.96155606 | ▁▁▁▂▃▅▇▇▅▂▁▁▁▁  |\n",
       "| b_I | -0.1763107 | 0.13930946 | -0.4450764 |  0.10767641 | ▁▁▁▃▇▇▅▂▁▁▁     |\n",
       "| b_SxD | -0.6224792 | 0.14585462 | -0.9054222 | -0.33965876 | ▁▁▁▂▅▇▇▃▁▁▁     |\n",
       "| b_SxI | -0.2589119 | 0.11095655 | -0.4723207 | -0.04488091 | ▁▁▁▂▅▇▅▂▁▁      |\n",
       "| sigma_replicate |  1.3957534 | 1.52812409 |  0.2171571 |  5.41005884 | ▇▁▁▁▁▁▁▁▁▁▁▁    |\n",
       "| sigma_Stream |  0.4895213 | 0.28432718 |  0.1808819 |  1.24578185 | ▁▇▅▂▁▁▁▁▁▁▁▁▁▁▁ |\n",
       "| S_control |  0.6907483 | 0.18406032 |  0.1798686 |  0.97481187 | ▁▁▁▁▁▂▅▇▃▂      |\n",
       "| S_decrease |  0.7851183 | 0.16480110 |  0.2831110 |  0.98485854 | ▁▁▁▁▁▁▁▃▇▃      |\n",
       "| S_increase |  0.6584168 | 0.18769224 |  0.1572406 |  0.96928658 | ▁▁▁▁▂▃▇▇▃▂      |\n",
       "\n"
      ],
      "text/plain": [
       "                mean       sd         2.5%       97.5%       histogram      \n",
       "a                0.9552685 1.26998847 -1.5172405  3.65587198 ▁▁▁▁▁▁▇▁▁▁▁▁   \n",
       "b_S              0.3409654 0.09673032  0.1532594  0.52593384 ▁▁▅▇▃▁▁▁       \n",
       "b_D              0.5851823 0.18804126  0.2208289  0.96155606 ▁▁▁▂▃▅▇▇▅▂▁▁▁▁ \n",
       "b_I             -0.1763107 0.13930946 -0.4450764  0.10767641 ▁▁▁▃▇▇▅▂▁▁▁    \n",
       "b_SxD           -0.6224792 0.14585462 -0.9054222 -0.33965876 ▁▁▁▂▅▇▇▃▁▁▁    \n",
       "b_SxI           -0.2589119 0.11095655 -0.4723207 -0.04488091 ▁▁▁▂▅▇▅▂▁▁     \n",
       "sigma_replicate  1.3957534 1.52812409  0.2171571  5.41005884 ▇▁▁▁▁▁▁▁▁▁▁▁   \n",
       "sigma_Stream     0.4895213 0.28432718  0.1808819  1.24578185 ▁▇▅▂▁▁▁▁▁▁▁▁▁▁▁\n",
       "S_control        0.6907483 0.18406032  0.1798686  0.97481187 ▁▁▁▁▁▂▅▇▃▂     \n",
       "S_decrease       0.7851183 0.16480110  0.2831110  0.98485854 ▁▁▁▁▁▁▁▃▇▃     \n",
       "S_increase       0.6584168 0.18769224  0.1572406  0.96928658 ▁▁▁▁▂▃▇▇▃▂     "
      ]
     },
     "metadata": {},
     "output_type": "display_data"
    }
   ],
   "source": [
    "# so, let's get the posterior samples\n",
    "post_S.m2 = extract.samples(S.m2)\n",
    "post_S.m2$S_control = inv_logit(post_S.m2$a) \n",
    "post_S.m2$S_decrease = inv_logit(post_S.m2$a + post_S.m2$b_D ) \n",
    "post_S.m2$S_increase = inv_logit(post_S.m2$a + post_S.m2$b_I ) \n",
    "precis(post_S.m2, prob = .95)"
   ]
  },
  {
   "cell_type": "code",
   "execution_count": 20,
   "metadata": {},
   "outputs": [
    {
     "name": "stderr",
     "output_type": "stream",
     "text": [
      "7 vector or matrix parameters hidden. Use depth=2 to show them.\n",
      "\n"
     ]
    },
    {
     "data": {
      "text/html": [
       "<table>\n",
       "<caption>A precis: 12 × 5</caption>\n",
       "<thead>\n",
       "\t<tr><th></th><th scope=col>mean</th><th scope=col>sd</th><th scope=col>5.5%</th><th scope=col>94.5%</th><th scope=col>histogram</th></tr>\n",
       "\t<tr><th></th><th scope=col>&lt;dbl&gt;</th><th scope=col>&lt;dbl&gt;</th><th scope=col>&lt;dbl&gt;</th><th scope=col>&lt;dbl&gt;</th><th scope=col>&lt;chr&gt;</th></tr>\n",
       "</thead>\n",
       "<tbody>\n",
       "\t<tr><th scope=row>a</th><td> 0.95526846</td><td>1.26998847</td><td>-0.72824134</td><td> 2.759136782</td><td>▁▁▁▁▁▁▇▁▁▁▁▁   </td></tr>\n",
       "\t<tr><th scope=row>b_S</th><td> 0.34096539</td><td>0.09673032</td><td> 0.18769305</td><td> 0.497196265</td><td>▁▁▅▇▃▁▁▁       </td></tr>\n",
       "\t<tr><th scope=row>b_D</th><td> 0.58518232</td><td>0.18804126</td><td> 0.28991555</td><td> 0.890093191</td><td>▁▁▁▂▃▅▇▇▅▂▁▁▁▁ </td></tr>\n",
       "\t<tr><th scope=row>b_I</th><td>-0.17631067</td><td>0.13930946</td><td>-0.39455715</td><td> 0.046139553</td><td>▁▁▁▃▇▇▅▂▁▁▁    </td></tr>\n",
       "\t<tr><th scope=row>b_SxD</th><td>-0.62247921</td><td>0.14585462</td><td>-0.85825628</td><td>-0.390184041</td><td>▁▁▁▂▅▇▇▃▁▁▁    </td></tr>\n",
       "\t<tr><th scope=row>b_SxI</th><td>-0.25891189</td><td>0.11095655</td><td>-0.43516496</td><td>-0.082311880</td><td>▁▁▁▂▅▇▅▂▁▁     </td></tr>\n",
       "\t<tr><th scope=row>sigma_replicate</th><td> 1.39575336</td><td>1.52812409</td><td> 0.27439127</td><td> 3.875189047</td><td>▇▁▁▁▁▁▁▁▁▁▁▁   </td></tr>\n",
       "\t<tr><th scope=row>sigma_Stream</th><td> 0.48952129</td><td>0.28432718</td><td> 0.20825527</td><td> 0.993954178</td><td>▁▇▅▂▁▁▁▁▁▁▁▁▁▁▁</td></tr>\n",
       "\t<tr><th scope=row>S_control</th><td> 0.69074831</td><td>0.18406032</td><td> 0.32558077</td><td> 0.940426883</td><td>▁▁▁▁▁▂▅▇▃▂     </td></tr>\n",
       "\t<tr><th scope=row>S_decrease</th><td> 0.78511827</td><td>0.16480110</td><td> 0.46238419</td><td> 0.965133925</td><td>▁▁▁▁▁▁▁▃▇▃     </td></tr>\n",
       "\t<tr><th scope=row>S_increase</th><td> 0.65841680</td><td>0.18769224</td><td> 0.28595107</td><td> 0.928383806</td><td>▁▁▁▁▂▃▇▇▃▂     </td></tr>\n",
       "\t<tr><th scope=row>S_IvsC</th><td>-0.03233152</td><td>0.02865659</td><td>-0.08092624</td><td> 0.007761284</td><td>▁▁▁▃▅▇▇▂▁▁▁    </td></tr>\n",
       "</tbody>\n",
       "</table>\n"
      ],
      "text/latex": [
       "A precis: 12 × 5\n",
       "\\begin{tabular}{r|lllll}\n",
       "  & mean & sd & 5.5\\% & 94.5\\% & histogram\\\\\n",
       "  & <dbl> & <dbl> & <dbl> & <dbl> & <chr>\\\\\n",
       "\\hline\n",
       "\ta &  0.95526846 & 1.26998847 & -0.72824134 &  2.759136782 & ▁▁▁▁▁▁▇▁▁▁▁▁   \\\\\n",
       "\tb\\_S &  0.34096539 & 0.09673032 &  0.18769305 &  0.497196265 & ▁▁▅▇▃▁▁▁       \\\\\n",
       "\tb\\_D &  0.58518232 & 0.18804126 &  0.28991555 &  0.890093191 & ▁▁▁▂▃▅▇▇▅▂▁▁▁▁ \\\\\n",
       "\tb\\_I & -0.17631067 & 0.13930946 & -0.39455715 &  0.046139553 & ▁▁▁▃▇▇▅▂▁▁▁    \\\\\n",
       "\tb\\_SxD & -0.62247921 & 0.14585462 & -0.85825628 & -0.390184041 & ▁▁▁▂▅▇▇▃▁▁▁    \\\\\n",
       "\tb\\_SxI & -0.25891189 & 0.11095655 & -0.43516496 & -0.082311880 & ▁▁▁▂▅▇▅▂▁▁     \\\\\n",
       "\tsigma\\_replicate &  1.39575336 & 1.52812409 &  0.27439127 &  3.875189047 & ▇▁▁▁▁▁▁▁▁▁▁▁   \\\\\n",
       "\tsigma\\_Stream &  0.48952129 & 0.28432718 &  0.20825527 &  0.993954178 & ▁▇▅▂▁▁▁▁▁▁▁▁▁▁▁\\\\\n",
       "\tS\\_control &  0.69074831 & 0.18406032 &  0.32558077 &  0.940426883 & ▁▁▁▁▁▂▅▇▃▂     \\\\\n",
       "\tS\\_decrease &  0.78511827 & 0.16480110 &  0.46238419 &  0.965133925 & ▁▁▁▁▁▁▁▃▇▃     \\\\\n",
       "\tS\\_increase &  0.65841680 & 0.18769224 &  0.28595107 &  0.928383806 & ▁▁▁▁▂▃▇▇▃▂     \\\\\n",
       "\tS\\_IvsC & -0.03233152 & 0.02865659 & -0.08092624 &  0.007761284 & ▁▁▁▃▅▇▇▂▁▁▁    \\\\\n",
       "\\end{tabular}\n"
      ],
      "text/markdown": [
       "\n",
       "A precis: 12 × 5\n",
       "\n",
       "| <!--/--> | mean &lt;dbl&gt; | sd &lt;dbl&gt; | 5.5% &lt;dbl&gt; | 94.5% &lt;dbl&gt; | histogram &lt;chr&gt; |\n",
       "|---|---|---|---|---|---|\n",
       "| a |  0.95526846 | 1.26998847 | -0.72824134 |  2.759136782 | ▁▁▁▁▁▁▇▁▁▁▁▁    |\n",
       "| b_S |  0.34096539 | 0.09673032 |  0.18769305 |  0.497196265 | ▁▁▅▇▃▁▁▁        |\n",
       "| b_D |  0.58518232 | 0.18804126 |  0.28991555 |  0.890093191 | ▁▁▁▂▃▅▇▇▅▂▁▁▁▁  |\n",
       "| b_I | -0.17631067 | 0.13930946 | -0.39455715 |  0.046139553 | ▁▁▁▃▇▇▅▂▁▁▁     |\n",
       "| b_SxD | -0.62247921 | 0.14585462 | -0.85825628 | -0.390184041 | ▁▁▁▂▅▇▇▃▁▁▁     |\n",
       "| b_SxI | -0.25891189 | 0.11095655 | -0.43516496 | -0.082311880 | ▁▁▁▂▅▇▅▂▁▁      |\n",
       "| sigma_replicate |  1.39575336 | 1.52812409 |  0.27439127 |  3.875189047 | ▇▁▁▁▁▁▁▁▁▁▁▁    |\n",
       "| sigma_Stream |  0.48952129 | 0.28432718 |  0.20825527 |  0.993954178 | ▁▇▅▂▁▁▁▁▁▁▁▁▁▁▁ |\n",
       "| S_control |  0.69074831 | 0.18406032 |  0.32558077 |  0.940426883 | ▁▁▁▁▁▂▅▇▃▂      |\n",
       "| S_decrease |  0.78511827 | 0.16480110 |  0.46238419 |  0.965133925 | ▁▁▁▁▁▁▁▃▇▃      |\n",
       "| S_increase |  0.65841680 | 0.18769224 |  0.28595107 |  0.928383806 | ▁▁▁▁▂▃▇▇▃▂      |\n",
       "| S_IvsC | -0.03233152 | 0.02865659 | -0.08092624 |  0.007761284 | ▁▁▁▃▅▇▇▂▁▁▁     |\n",
       "\n"
      ],
      "text/plain": [
       "                mean        sd         5.5%        94.5%        histogram      \n",
       "a                0.95526846 1.26998847 -0.72824134  2.759136782 ▁▁▁▁▁▁▇▁▁▁▁▁   \n",
       "b_S              0.34096539 0.09673032  0.18769305  0.497196265 ▁▁▅▇▃▁▁▁       \n",
       "b_D              0.58518232 0.18804126  0.28991555  0.890093191 ▁▁▁▂▃▅▇▇▅▂▁▁▁▁ \n",
       "b_I             -0.17631067 0.13930946 -0.39455715  0.046139553 ▁▁▁▃▇▇▅▂▁▁▁    \n",
       "b_SxD           -0.62247921 0.14585462 -0.85825628 -0.390184041 ▁▁▁▂▅▇▇▃▁▁▁    \n",
       "b_SxI           -0.25891189 0.11095655 -0.43516496 -0.082311880 ▁▁▁▂▅▇▅▂▁▁     \n",
       "sigma_replicate  1.39575336 1.52812409  0.27439127  3.875189047 ▇▁▁▁▁▁▁▁▁▁▁▁   \n",
       "sigma_Stream     0.48952129 0.28432718  0.20825527  0.993954178 ▁▇▅▂▁▁▁▁▁▁▁▁▁▁▁\n",
       "S_control        0.69074831 0.18406032  0.32558077  0.940426883 ▁▁▁▁▁▂▅▇▃▂     \n",
       "S_decrease       0.78511827 0.16480110  0.46238419  0.965133925 ▁▁▁▁▁▁▁▃▇▃     \n",
       "S_increase       0.65841680 0.18769224  0.28595107  0.928383806 ▁▁▁▁▂▃▇▇▃▂     \n",
       "S_IvsC          -0.03233152 0.02865659 -0.08092624  0.007761284 ▁▁▁▃▅▇▇▂▁▁▁    "
      ]
     },
     "metadata": {},
     "output_type": "display_data"
    }
   ],
   "source": [
    "post_S.m2$S_IvsC  = post_S.m2$S_increase - post_S.m2$S_control \n",
    "precis(post_S.m2)"
   ]
  },
  {
   "cell_type": "markdown",
   "metadata": {},
   "source": [
    "## Step 4: plot your results, draw conclusions, and so on...\n",
    "\n",
    "Plotting the results from Bayesian models is very intuitive and relatively easy to do: first, you need to recrate the model with the posteriors. Second, chose the values you want to model, and third, test you hypothesis.\n",
    "\n",
    "For instanace, next we will plot the results from the model and compare it with the data.\n",
    "\n",
    "We start by creating a function that allow us to model the results from the parameters in the posterior distributions."
   ]
  },
  {
   "cell_type": "code",
   "execution_count": 24,
   "metadata": {},
   "outputs": [],
   "source": [
    "predict.link = function(posteriors = NULL, sizeclass = NULL, decrease = 0, increase = 0, center = 2){\n",
    "\n",
    "    z = sizeclass - center\n",
    "    \n",
    "pred=  with(posteriors, a + b_S*z + b_D * decrease + b_I * increase + \n",
    "         b_SxD * decrease*z + b_SxI * increase * z\n",
    "        )\n",
    "\n",
    "    return(inv_logit(pred))\n",
    "}"
   ]
  },
  {
   "cell_type": "code",
   "execution_count": 33,
   "metadata": {},
   "outputs": [],
   "source": [
    "pred.1 = predict.link(posteriors = post_S.m2, sizeclass = 1, decrease = 0, center = 2)\n",
    "pred.2 = predict.link(posteriors = post_S.m2, sizeclass = 2, decrease = 0, center = 2)"
   ]
  },
  {
   "cell_type": "code",
   "execution_count": 35,
   "metadata": {},
   "outputs": [
    {
     "data": {
      "image/png": "[encoded data removed]",
      "text/plain": [
       "Plot with title “”"
      ]
     },
     "metadata": {
      "image/png": {
       "height": 420,
       "width": 420
      }
     },
     "output_type": "display_data"
    }
   ],
   "source": [
    "dens(pred.1, show.HPDI = 0.95, ylim = c(0,4))\n",
    "dens(pred.2, show.HPDI = 0.95, add = TRUE)"
   ]
  },
  {
   "cell_type": "code",
   "execution_count": 37,
   "metadata": {},
   "outputs": [
    {
     "data": {
      "image/png": "[encoded data removed]",
      "text/plain": [
       "Plot with title “”"
      ]
     },
     "metadata": {
      "image/png": {
       "height": 420,
       "width": 420
      }
     },
     "output_type": "display_data"
    }
   ],
   "source": [
    "dens(pred.2-pred.1, show.HPDI = .95, show.zero = TRUE)"
   ]
  },
  {
   "cell_type": "code",
   "execution_count": 43,
   "metadata": {},
   "outputs": [
    {
     "name": "stdout",
     "output_type": "stream",
     "text": [
      " num [1:4000, 1:5] 0.693 0.653 0.594 0.488 0.719 ...\n"
     ]
    }
   ],
   "source": [
    "sizes = 1:5\n",
    "Control = sapply(1:length(sizes), function(i) predict.link(posteriors = post_S.m2, sizeclass =sizes[i], \n",
    "                                                           decrease = 0, increase = 0, center = 2))\n",
    "Decrease = sapply(1:length(sizes), function(i) predict.link(posteriors = post_S.m2, sizeclass =sizes[i], \n",
    "                                                           decrease = 1, increase = 0, center = 2))\n",
    "\n",
    "Increase = sapply(1:length(sizes), function(i) predict.link(posteriors = post_S.m2, sizeclass =sizes[i], \n",
    "                                                           decrease = 0, increase = 1, center = 2))\n",
    "\n",
    "                  \n",
    "# add points representing posterior means\n",
    "str(Control)"
   ]
  },
  {
   "cell_type": "code",
   "execution_count": 46,
   "metadata": {},
   "outputs": [],
   "source": [
    "# estimate the posterior mean for each size class in each treatment\n",
    "\n",
    "m.Control = apply(Control, 2, mean)\n",
    "m.Decrease = apply(Decrease, 2, mean)\n",
    "m.Increase = apply(Increase, 2, mean)"
   ]
  },
  {
   "cell_type": "code",
   "execution_count": 65,
   "metadata": {},
   "outputs": [],
   "source": [
    "# estimate the uncertainty = complement intervals, credible intervals, etc.\n",
    "\n",
    "ci.Control = apply(Control, 2, HPDI, prob = .89)\n",
    "ci.Decrease = apply(Decrease, 2, HPDI, prob = .89)\n",
    "ci.Increase = apply(Increase, 2, HPDI, prob = .89)\n",
    "\n",
    "ci.Control = t(ci.Control)\n",
    "ci.Decrease = t(ci.Decrease)\n",
    "ci.Increase = t(ci.Increase)"
   ]
  },
  {
   "cell_type": "code",
   "execution_count": 66,
   "metadata": {},
   "outputs": [
    {
     "data": {
      "text/html": [
       "<table>\n",
       "<caption>A matrix: 5 × 2 of type dbl</caption>\n",
       "<thead>\n",
       "\t<tr><th scope=col>|0.89</th><th scope=col>0.89|</th></tr>\n",
       "</thead>\n",
       "<tbody>\n",
       "\t<tr><td>0.3873408</td><td>0.9999722</td></tr>\n",
       "\t<tr><td>0.4750913</td><td>0.9999777</td></tr>\n",
       "\t<tr><td>0.5577919</td><td>0.9999829</td></tr>\n",
       "\t<tr><td>0.6348297</td><td>0.9999893</td></tr>\n",
       "\t<tr><td>0.7002703</td><td>0.9999933</td></tr>\n",
       "</tbody>\n",
       "</table>\n"
      ],
      "text/latex": [
       "A matrix: 5 × 2 of type dbl\n",
       "\\begin{tabular}{ll}\n",
       " \\textbar{}0.89 & 0.89\\textbar{}\\\\\n",
       "\\hline\n",
       "\t 0.3873408 & 0.9999722\\\\\n",
       "\t 0.4750913 & 0.9999777\\\\\n",
       "\t 0.5577919 & 0.9999829\\\\\n",
       "\t 0.6348297 & 0.9999893\\\\\n",
       "\t 0.7002703 & 0.9999933\\\\\n",
       "\\end{tabular}\n"
      ],
      "text/markdown": [
       "\n",
       "A matrix: 5 × 2 of type dbl\n",
       "\n",
       "| |0.89 | 0.89| |\n",
       "|---|---|\n",
       "| 0.3873408 | 0.9999722 |\n",
       "| 0.4750913 | 0.9999777 |\n",
       "| 0.5577919 | 0.9999829 |\n",
       "| 0.6348297 | 0.9999893 |\n",
       "| 0.7002703 | 0.9999933 |\n",
       "\n"
      ],
      "text/plain": [
       "     |0.89     0.89|    \n",
       "[1,] 0.3873408 0.9999722\n",
       "[2,] 0.4750913 0.9999777\n",
       "[3,] 0.5577919 0.9999829\n",
       "[4,] 0.6348297 0.9999893\n",
       "[5,] 0.7002703 0.9999933"
      ]
     },
     "metadata": {},
     "output_type": "display_data"
    }
   ],
   "source": [
    "ci.Control[,1:2]"
   ]
  },
  {
   "cell_type": "code",
   "execution_count": 70,
   "metadata": {},
   "outputs": [
    {
     "data": {
      "image/png": "[encoded data removed]",
      "text/plain": [
       "plot without title"
      ]
     },
     "metadata": {
      "image/png": {
       "height": 420,
       "width": 420
      }
     },
     "output_type": "display_data"
    }
   ],
   "source": [
    "plot(survival ~ sizeclass, S.data, pch = '', xlim= c(0, 6))\n",
    "\n",
    "segments(x0 = sizes, x1 = sizes, y0 = ci.Control[,1], y1 = ci.Control[,2], lwd = 2, lty = 1 )\n",
    "points(x = sizes, y = m.Control, pch=21, bg = \"gray\", cex = 2)\n",
    "\n",
    "\n",
    "segments(x0 = (sizes + 0.2), x1 = (sizes +0.2), y0 = ci.Decrease[,1], y1 = ci.Decrease[,2], lwd = 2, lty = 1)\n",
    "points(x = sizes+ 0.2, y = m.Decrease, pch=25, bg = \"black\", cex = 2)\n",
    "\n",
    "\n",
    "segments(x0 = (sizes - 0.2), x1 = (sizes  - 0.2), y0 = ci.Increase[,1], y1 = ci.Increase[,2], lwd = 2, lty = 1)\n",
    "points(x = sizes - 0.2, y = m.Increase, pch=24, bg = \"black\", cex = 2)"
   ]
  }
 ],
 "metadata": {
  "@webio": {
   "lastCommId": null,
   "lastKernelId": null
  },
  "kernelspec": {
   "display_name": "R",
   "language": "R",
   "name": "ir"
  },
  "language_info": {
   "codemirror_mode": "r",
   "file_extension": ".r",
   "mimetype": "text/x-r-source",
   "name": "R",
   "pygments_lexer": "r",
   "version": "4.1.0"
  }
 },
 "nbformat": 4,
 "nbformat_minor": 4
}
