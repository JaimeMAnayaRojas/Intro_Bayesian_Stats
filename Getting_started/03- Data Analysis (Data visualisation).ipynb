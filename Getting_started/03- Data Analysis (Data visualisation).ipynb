{
 "cells": [
  {
   "cell_type": "markdown",
   "metadata": {},
   "source": [
    "# Data visualisation\n",
    "\n",
    "Visualising your data, should always be the first step  of your data analyses. Never start an analysis with the statistical analysis. So, even before starting to make your graphs with your data, make a picture (a drawing) in a pice of paper of what you expect to see. Because you have plan your experiment, set your hypotheses, and collect your data, you a pretty good idea of what to expect. \n",
    "\n",
    "In this `Notebook`, we are going to get the basis of making nice figure with the package `ggplot2`.\n",
    "\n",
    "So, if you are using Rstudio, start a new script."
   ]
  },
  {
   "cell_type": "code",
   "execution_count": null,
   "metadata": {},
   "outputs": [],
   "source": [
    "# Plotting with ggplot2\n",
    "# data\n",
    "# Make as many anotations as necessary\n",
    "rm(list=ls())\n",
    "\n",
    "# load the libraries\n",
    "\n",
    "library(ggplot2)\n",
    "library(dplyr)"
   ]
  },
  {
   "cell_type": "code",
   "execution_count": null,
   "metadata": {},
   "outputs": [],
   "source": [
    "data <- read.csv(\"datasets-master/compensation.csv\")\n",
    "\n",
    "glimpse(data)\n"
   ]
  },
  {
   "cell_type": "markdown",
   "metadata": {},
   "source": [
    "## Scatterplots"
   ]
  },
  {
   "cell_type": "code",
   "execution_count": null,
   "metadata": {},
   "outputs": [],
   "source": [
    "## ggplot2 grammar:\n",
    "ggplot(data, aes(y=Fruit, x=Root))+\n",
    "geom_point()"
   ]
  },
  {
   "cell_type": "code",
   "execution_count": null,
   "metadata": {},
   "outputs": [],
   "source": [
    "# Change the size of the points\n",
    "ggplot(data, aes(y=Fruit, x=Root))+\n",
    "geom_point(size= 3)"
   ]
  },
  {
   "cell_type": "code",
   "execution_count": null,
   "metadata": {},
   "outputs": [],
   "source": [
    "# Change the size of the points\n",
    "# color the points by groups, e.g. Grazing\n",
    "ggplot(data, aes(y=Fruit, x=Root, colour= Grazing))+\n",
    "geom_point(size = 3)"
   ]
  },
  {
   "cell_type": "markdown",
   "metadata": {},
   "source": [
    "### interpretation and then customize... "
   ]
  },
  {
   "cell_type": "code",
   "execution_count": null,
   "metadata": {},
   "outputs": [],
   "source": [
    "# Change the size of the points\n",
    "# color the points by groups, e.g. Grazing\n",
    "# remove the gray background\n",
    "ggplot(data, aes(y=Fruit, x=Root, colour= Grazing))+\n",
    "geom_point(size = 3) + \n",
    "theme_bw()"
   ]
  },
  {
   "cell_type": "code",
   "execution_count": null,
   "metadata": {},
   "outputs": [],
   "source": [
    "# Change the size of the points\n",
    "# color the points by groups, e.g. Grazing\n",
    "# remove the gray background\n",
    "# change axis names\n",
    "ggplot(data, aes(y=Fruit, x=Root, colour= Grazing))+\n",
    "geom_point(size = 3) + \n",
    "theme_bw() + \n",
    "xlab(\"Root Biomass\") +\n",
    "ylab(\"Fruit Production\")"
   ]
  },
  {
   "cell_type": "markdown",
   "metadata": {},
   "source": [
    "## When and why to use scatterplots?"
   ]
  },
  {
   "cell_type": "markdown",
   "metadata": {},
   "source": [
    "# Box-whisker plots"
   ]
  },
  {
   "cell_type": "code",
   "execution_count": null,
   "metadata": {},
   "outputs": [],
   "source": [
    "# compare the fruit production between grazed and ungrazed plants\n",
    "ggplot(data, aes(y=Fruit, x=Grazing))+\n",
    "geom_boxplot() + \n",
    "theme_bw() + \n",
    "ylab(\"Fruit Production\")"
   ]
  },
  {
   "cell_type": "code",
   "execution_count": null,
   "metadata": {},
   "outputs": [],
   "source": [
    "# compare the fruit production between grazed and ungrazed plants\n",
    "# get more information about the box-plot\n",
    "ggplot(data, aes(y=Fruit, x=Grazing))+\n",
    "geom_boxplot() + \n",
    "geom_point(size = 5, colour= \"gray\", alpha =0.7)+\n",
    "theme_bw() + \n",
    "ylab(\"Fruit Production\")"
   ]
  },
  {
   "cell_type": "code",
   "execution_count": null,
   "metadata": {},
   "outputs": [],
   "source": [
    "# compare the fruit production between grazed and ungrazed plants\n",
    "# get more information about the box-plot\n",
    "ggplot(data, aes(y=Fruit, x=Grazing))+\n",
    "geom_boxplot() + \n",
    "geom_jitter(size = 5, colour= \"gray\", alpha =0.8) +\n",
    "theme_bw() + \n",
    "ylab(\"Fruit Production\")"
   ]
  },
  {
   "cell_type": "code",
   "execution_count": null,
   "metadata": {},
   "outputs": [],
   "source": [
    "# compare the fruit production between grazed and ungrazed plants\n",
    "# get more information about the box-plot\n",
    "ggplot(data, aes(y=Fruit, x=Grazing))+\n",
    "geom_boxplot() + \n",
    "geom_jitter(size = 5, colour= \"gray\", alpha =0.8, width = 0.25) +\n",
    "theme_bw() + \n",
    "ylab(\"Fruit Production\")\n"
   ]
  },
  {
   "cell_type": "markdown",
   "metadata": {},
   "source": [
    "### Why and when to use boxplot?"
   ]
  },
  {
   "cell_type": "markdown",
   "metadata": {},
   "source": [
    "## Distributions: histograms\n",
    "Clues about the shape of the distribution, central tendency, and spread of the data."
   ]
  },
  {
   "cell_type": "code",
   "execution_count": null,
   "metadata": {},
   "outputs": [],
   "source": [
    "# Making histogram\n",
    "\n",
    "ggplot(data, aes(x=Fruit)) +\n",
    "geom_histogram()"
   ]
  },
  {
   "cell_type": "code",
   "execution_count": null,
   "metadata": {},
   "outputs": [],
   "source": [
    "ggplot(data, aes(x=Fruit)) +\n",
    "geom_histogram(binwidth= 13)"
   ]
  },
  {
   "cell_type": "code",
   "execution_count": null,
   "metadata": {},
   "outputs": [],
   "source": [
    "## Facet for panels\n",
    "\n",
    "ggplot(data, aes(x=Fruit)) +\n",
    "geom_histogram(binwidth = 13)+\n",
    "facet_wrap(.~ Grazing)"
   ]
  },
  {
   "cell_type": "markdown",
   "metadata": {},
   "source": [
    "## Saving figures"
   ]
  },
  {
   "cell_type": "code",
   "execution_count": null,
   "metadata": {},
   "outputs": [],
   "source": [
    "ggsave(\"MyHistogram.png\", dpi = 800)\n",
    "ggsave(\"MyHistogram.pdf\")"
   ]
  }
 ],
 "metadata": {
  "kernelspec": {
   "display_name": "R",
   "language": "R",
   "name": "ir"
  },
  "language_info": {
   "codemirror_mode": "r",
   "file_extension": ".r",
   "mimetype": "text/x-r-source",
   "name": "R",
   "pygments_lexer": "r",
   "version": "4.0.5"
  }
 },
 "nbformat": 4,
 "nbformat_minor": 4
}
