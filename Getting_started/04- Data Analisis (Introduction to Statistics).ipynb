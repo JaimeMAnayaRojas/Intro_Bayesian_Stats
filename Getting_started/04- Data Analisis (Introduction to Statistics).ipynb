{
 "cells": [
  {
   "cell_type": "markdown",
   "metadata": {},
   "source": [
    "# Introduction to statistics"
   ]
  },
  {
   "cell_type": "markdown",
   "metadata": {},
   "source": [
    "## What are statistcs for? "
   ]
  },
  {
   "cell_type": "code",
   "execution_count": null,
   "metadata": {},
   "outputs": [],
   "source": [
    "# Introduction to statistics\n",
    "# Make as many anotations as necessary\n",
    "rm(list=ls())\n",
    "\n",
    "# load the libraries\n",
    "\n",
    "library(ggplot2)\n",
    "library(dplyr)\n"
   ]
  },
  {
   "cell_type": "code",
   "execution_count": null,
   "metadata": {},
   "outputs": [],
   "source": [
    "\n",
    "# generate 10 random temperature values in F\n",
    "n = 20\n",
    "x = runif(n, -10:100)\n",
    "x"
   ]
  },
  {
   "cell_type": "code",
   "execution_count": null,
   "metadata": {},
   "outputs": [],
   "source": [
    "# what are those values in Celsius\n",
    "\n",
    "y = (5/9)*x - 17.77\n",
    "y = - 17.77 + (5/9)*x"
   ]
  },
  {
   "cell_type": "code",
   "execution_count": null,
   "metadata": {},
   "outputs": [],
   "source": [
    "data <- data.frame(F = x, C =y)\n",
    "glimpse(data)"
   ]
  },
  {
   "cell_type": "code",
   "execution_count": null,
   "metadata": {},
   "outputs": [],
   "source": [
    "# let's plot the data\n",
    "ggplot(data, aes(x = F, y = C)) +\n",
    "geom_point(size = 5) + \n",
    "geom_abline(intercept = -17.777, slope = 5/9, color = \"red\") +\n",
    "theme_bw()\n",
    "\n"
   ]
  },
  {
   "cell_type": "markdown",
   "metadata": {},
   "source": [
    "# Noisy data\n",
    "\n",
    "Why is real world data noisy?\n"
   ]
  },
  {
   "cell_type": "code",
   "execution_count": null,
   "metadata": {},
   "outputs": [],
   "source": [
    "# add noise\n",
    "\n",
    "yy = rnorm(n, mean = - 17.77 + (5/9)*x , sd = 0.5)\n",
    "yy"
   ]
  },
  {
   "cell_type": "code",
   "execution_count": null,
   "metadata": {},
   "outputs": [],
   "source": [
    "# let's plot the data\n",
    "\n",
    "data$Cs <- yy\n",
    "ggplot(data, aes(x = F, y = Cs)) +\n",
    "geom_point(size = 5) + \n",
    "geom_abline(intercept = -17.777, slope = 5/9, color = \"red\") +\n",
    "theme_bw()"
   ]
  },
  {
   "cell_type": "code",
   "execution_count": null,
   "metadata": {},
   "outputs": [],
   "source": [
    "m1 <- lm(Cs ~ F, data)\n",
    "summary(m1)\n",
    "\n"
   ]
  },
  {
   "cell_type": "markdown",
   "metadata": {},
   "source": [
    "## A lenguaje to understand statistical models\n",
    "$$ Y_{i} \\approx \\alpha + \\beta X + \\epsilon $$\n",
    "$$ \\epsilon \\approx Normal(0, \\sigma) $$\n",
    "\n"
   ]
  },
  {
   "cell_type": "markdown",
   "metadata": {},
   "source": [
    "### The intercept:\n",
    "`-17.77 + (5/9)*x` -> `-17.77 + (5/9)*0`\n"
   ]
  },
  {
   "cell_type": "code",
   "execution_count": null,
   "metadata": {},
   "outputs": [],
   "source": [
    "alpha <- -17.77 + (5/9)*0\n",
    "alpha"
   ]
  },
  {
   "cell_type": "markdown",
   "metadata": {},
   "source": [
    "It is the interception of the `x` an `y` axis, when `x == 0`"
   ]
  },
  {
   "cell_type": "markdown",
   "metadata": {},
   "source": [
    "## the slope (F)\n",
    "rate of change of `y` as `x` increases in `1` unit. "
   ]
  },
  {
   "cell_type": "code",
   "execution_count": null,
   "metadata": {},
   "outputs": [],
   "source": [
    "C1 = -17.77 + (5/9)*1\n",
    "C2 = -17.77 + (5/9)*5\n",
    "\n",
    "C2 - C1\n"
   ]
  },
  {
   "cell_type": "code",
   "execution_count": null,
   "metadata": {},
   "outputs": [],
   "source": [
    "\n",
    "data$Cs <- yy\n",
    "ggplot(data, aes(x = F, y = Cs)) +\n",
    "geom_point(size = 5) + \n",
    "geom_abline(intercept = -17.777, slope = 5/9, color = \"red\") +\n",
    "geom_smooth(method = 'lm') + \n",
    "theme_bw()"
   ]
  },
  {
   "cell_type": "code",
   "execution_count": null,
   "metadata": {},
   "outputs": [],
   "source": [
    "# more noise\n",
    "\n",
    "yy = rnorm(n, mean = - 17.77 + (5/9)*x , sd = 0.8)\n",
    "yy\n",
    "\n",
    "data$Cs <- yy\n",
    "\n",
    "ggplot(data, aes(x = F, y = Cs)) +\n",
    "geom_point(size = 5) + \n",
    "geom_abline(intercept = -17.777, slope = 5/9, color = \"red\") +\n",
    "geom_smooth(method = 'lm') + \n",
    "theme_bw()"
   ]
  },
  {
   "cell_type": "code",
   "execution_count": null,
   "metadata": {
    "scrolled": true
   },
   "outputs": [],
   "source": [
    "# add less noise\n",
    "\n",
    "yy = rnorm(n, mean = - 17.77 + (5/9)*x , sd = 0.1)\n",
    "yy\n",
    "\n",
    "data$Cs <- yy\n",
    "\n",
    "ggplot(data, aes(x = F, y = Cs)) +\n",
    "geom_point(size = 5) + \n",
    "geom_abline(intercept = -17.777, slope = 5/9, color = \"red\") +\n",
    "geom_smooth(method = 'lm') + \n",
    "theme_bw()"
   ]
  }
 ],
 "metadata": {
  "kernelspec": {
   "display_name": "R",
   "language": "R",
   "name": "ir"
  },
  "language_info": {
   "codemirror_mode": "r",
   "file_extension": ".r",
   "mimetype": "text/x-r-source",
   "name": "R",
   "pygments_lexer": "r",
   "version": "4.0.5"
  }
 },
 "nbformat": 4,
 "nbformat_minor": 4
}
