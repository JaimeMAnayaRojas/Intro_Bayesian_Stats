{
 "cells": [
  {
   "cell_type": "markdown",
   "metadata": {},
   "source": [
    "# Get the data"
   ]
  },
  {
   "cell_type": "code",
   "execution_count": 5,
   "metadata": {},
   "outputs": [
    {
     "ename": "LoadError",
     "evalue": "UndefVarError: data_path not defined",
     "output_type": "error",
     "traceback": [
      "UndefVarError: data_path not defined",
      "",
      "Stacktrace:",
      " [1] getproperty(::Module, ::Symbol) at ./Base.jl:26",
      " [2] top-level scope at In[5]:10",
      " [3] include_string(::Function, ::Module, ::String, ::String) at ./loading.jl:1091"
     ]
    }
   ],
   "source": [
    "import CSV\n",
    "using StatsPlots\n",
    "using DataFrames\n",
    "using Random\n",
    "using Turing\n",
    "using TuringModels\n",
    "\n",
    "Random.seed!(1)\n",
    "\n",
    "data_path = joinpath(TuringModels.project_root, \"data\", \"Howell1.csv\")\n",
    "df = CSV.read(data_path, DataFrame; delim=';')\n",
    "df = filter(row -> row.age >= 18, df);\n",
    "\n",
    "df.weight_c = df.weight .- 45 # center at 45 kg"
   ]
  },
  {
   "cell_type": "code",
   "execution_count": 4,
   "metadata": {},
   "outputs": [
    {
     "ename": "LoadError",
     "evalue": "UndefVarError: df not defined",
     "output_type": "error",
     "traceback": [
      "UndefVarError: df not defined",
      "",
      "Stacktrace:",
      " [1] top-level scope at In[4]:1",
      " [2] include_string(::Function, ::Module, ::String, ::String) at ./loading.jl:1091"
     ]
    }
   ],
   "source": [
    "df[1:6,:]"
   ]
  },
  {
   "cell_type": "markdown",
   "metadata": {},
   "source": [
    "# Define your model"
   ]
  },
  {
   "cell_type": "code",
   "execution_count": 3,
   "metadata": {},
   "outputs": [
    {
     "ename": "LoadError",
     "evalue": "UndefVarError: df not defined",
     "output_type": "error",
     "traceback": [
      "UndefVarError: df not defined",
      "",
      "Stacktrace:",
      " [1] top-level scope at In[3]:14",
      " [2] include_string(::Function, ::Module, ::String, ::String) at ./loading.jl:1091"
     ]
    }
   ],
   "source": [
    "@model function ANCOVA(height, weight, male)\n",
    "    \n",
    "    σ ~ truncated(Cauchy(0, 2), 0, Inf)\n",
    "    α ~ Normal(134, 100)\n",
    "    β_w ~ Normal(0, 10)\n",
    "    β_m ~ Normal(0, 10)\n",
    "    β_wm ~ Normal(0, 10)\n",
    "   \n",
    "    μ = α .+ β_w .* weight .+ β_m .* male .+ β_wm .* (weight.*male)\n",
    "    \n",
    "    height .~ Normal.(μ, σ)\n",
    "end\n",
    "\n",
    "model = ANCOVA(df.height, df.weight_c, df.male)"
   ]
  },
  {
   "cell_type": "code",
   "execution_count": 4,
   "metadata": {},
   "outputs": [
    {
     "ename": "LoadError",
     "evalue": "UndefVarError: model not defined",
     "output_type": "error",
     "traceback": [
      "UndefVarError: model not defined",
      "",
      "Stacktrace:",
      " [1] top-level scope at In[4]:2",
      " [2] include_string(::Function, ::Module, ::String, ::String) at ./loading.jl:1091"
     ]
    }
   ],
   "source": [
    "# Run the model\n",
    "chns = sample(model, NUTS(), MCMCThreads(), 3000, 4)"
   ]
  },
  {
   "cell_type": "code",
   "execution_count": 5,
   "metadata": {},
   "outputs": [
    {
     "ename": "LoadError",
     "evalue": "UndefVarError: chns not defined",
     "output_type": "error",
     "traceback": [
      "UndefVarError: chns not defined",
      "",
      "Stacktrace:",
      " [1] top-level scope at In[5]:1",
      " [2] include_string(::Function, ::Module, ::String, ::String) at ./loading.jl:1091"
     ]
    }
   ],
   "source": [
    "describe(chns)"
   ]
  },
  {
   "cell_type": "code",
   "execution_count": 6,
   "metadata": {},
   "outputs": [
    {
     "ename": "LoadError",
     "evalue": "UndefVarError: chns not defined",
     "output_type": "error",
     "traceback": [
      "UndefVarError: chns not defined",
      "",
      "Stacktrace:",
      " [1] top-level scope at In[6]:1",
      " [2] include_string(::Function, ::Module, ::String, ::String) at ./loading.jl:1091"
     ]
    }
   ],
   "source": [
    "post = DataFrame(chns)\n",
    "\n",
    "# model from the posteriors\n",
    "function p_link(weight, male, α, β_w, β_m, β_wm)\n",
    "    weight_c = weight -45\n",
    "    return α .+ β_w .* weight_c .+ β_m .* male .+ β_wm .* (weight_c.*male)\n",
    "end\n"
   ]
  },
  {
   "cell_type": "code",
   "execution_count": 7,
   "metadata": {},
   "outputs": [
    {
     "ename": "LoadError",
     "evalue": "UndefVarError: post not defined",
     "output_type": "error",
     "traceback": [
      "UndefVarError: post not defined",
      "",
      "Stacktrace:",
      " [1] (::var\"#3#4\")(::Float64) at ./none:0",
      " [2] iterate at ./generator.jl:47 [inlined]",
      " [3] collect(::Base.Generator{StepRangeLen{Float64,Base.TwicePrecision{Float64},Base.TwicePrecision{Float64}},var\"#3#4\"}) at ./array.jl:686",
      " [4] top-level scope at In[7]:4",
      " [5] include_string(::Function, ::Module, ::String, ::String) at ./loading.jl:1091"
     ]
    }
   ],
   "source": [
    "\n",
    "x_weight = 30:0.25:70\n",
    "\n",
    "arr = [p_link.(w, 0, post.α, post.β_w, post.β_m, post.β_wm) for w in x_weight]\n",
    "raw_p = DataFrame(arr)\n",
    "m = [mean(v) for v in arr]\n",
    "quantiles = [quantile(v, [0.1, 0.9]) for v in arr]\n",
    "lower = [q[1] - m for (q, m) in zip(quantiles, m)]\n",
    "upper = [q[2] - m for (q, m) in zip(quantiles, m)]\n",
    "plot(x_weight, m,  ribbon = [lower, upper], leg = :bottomright, label = \"Female\" )\n",
    "#scatter!(df.weight, df.height)\n",
    "\n",
    "arr = [p_link.(w, 1, post.α, post.β_w, post.β_m, post.β_wm) for w in x_weight]\n",
    "raw_p = DataFrame(arr)\n",
    "m = [mean(v) for v in arr]\n",
    "quantiles = [quantile(v, [0.1, 0.9]) for v in arr]\n",
    "lower = [q[1] - m for (q, m) in zip(quantiles, m)]\n",
    "upper = [q[2] - m for (q, m) in zip(quantiles, m)]\n",
    "\n",
    "plot!(x_weight, m, ribbon = [lower, upper], label = \"Male\")\n",
    "xlabel!(\"Weight (Kg)\")\n",
    "ylabel!(\"Height (cm)\")\n",
    "\n",
    "\n"
   ]
  },
  {
   "cell_type": "code",
   "execution_count": null,
   "metadata": {},
   "outputs": [],
   "source": []
  }
 ],
 "metadata": {
  "kernelspec": {
   "display_name": "Julia 1.5.3",
   "language": "julia",
   "name": "julia-1.5"
  },
  "language_info": {
   "file_extension": ".jl",
   "mimetype": "application/julia",
   "name": "julia",
   "version": "1.5.3"
  }
 },
 "nbformat": 4,
 "nbformat_minor": 4
}
